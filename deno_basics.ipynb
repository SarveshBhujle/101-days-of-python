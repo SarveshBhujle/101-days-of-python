{
 "cells": [
  {
   "cell_type": "markdown",
   "metadata": {
    "vscode": {
     "languageId": "raw"
    }
   },
   "source": [
    "# Surprise!\n",
    "\n",
    "## JS in 101 Days of Python!\n",
    "\n",
    "<div style=\"display:flex; align-items:center; padding: 50px;\">\n",
    "<p style=\"margin-right:10px;\">\n",
    "    <img height=\"200px\" style=\"width:auto;\" width=\"200px\" src=\"https://avatars.githubusercontent.com/u/192148546?s=400&u=95d76fbb02e6c09671d87c9155f17ca1e4ef8f21&v=4\"> \n",
    "</p>\n",
    "</div>\n",
    "Didn't expect that? Guess what? Life is unexpected.\n",
    "\n",
    "We'll be writing TS code too as part of this series, but these notebooks will not be counted in the 101 Python notebooks.\n",
    "This notebook demonstrates how to integrate TypeScript (TS) and JavaScript (JS) with Deno and APIs like OpenAI, Google Search, and Firecrawl. Through this series, we'll explore practical examples using environment variables, generating text with the OpenAI API, simulating business workflows, and scraping web content into markdown format. This notebook serves as a guide for understanding how to leverage modern JavaScript features within a Python-focused environment.   \n"
   ]
  },
  {
   "cell_type": "markdown",
   "metadata": {},
   "source": [
    "## Step 1: Setup Environment Variables\n",
    "First, we load environment variables from the .env file to keep sensitive data secure.\n",
    "\n",
    "- Loads environment variables from the .env file for secure data management.\n",
    "\n",
    "- Helps keep sensitive information like API keys private."
   ]
  },
  {
   "cell_type": "code",
   "execution_count": 14,
   "metadata": {},
   "outputs": [],
   "source": [
    "import { load } from \"https://deno.land/std@0.184.0/dotenv/mod.ts\";\n",
    "\n",
    "const env = await load({ envPath: \"./.env\" });\n",
    "\n",
    "(globalThis as any).env = env;\n",
    "undefined; // this line is to avoid printing the env object\n"
   ]
  },
  {
   "cell_type": "markdown",
   "metadata": {},
   "source": [
    "## Step 2: Generate Text Using OpenAI API\n",
    "\n",
    "Next, we use OpenAI's API to generate a response based on a specific prompt. Here, we're asking OpenAI about the meaning of life.\n",
    "\n",
    "- Generates a text response based on a specific prompt using the OpenAI API.\n",
    "\n",
    "- In this case, it responds to the question \"What is the meaning of life?\" in markdown format."
   ]
  },
  {
   "cell_type": "code",
   "execution_count": null,
   "metadata": {},
   "outputs": [],
   "source": [
    "// Basics: let's generate some text using the OpenAI API\n",
    "\n",
    "import { generateText } from \"npm:ai\";\n",
    "import { openai } from \"npm:@ai-sdk/openai\";\n",
    "\n",
    "const { text } = await generateText({\n",
    "  system: \"You are an intelligent AI system for generating responses.\",\n",
    "  prompt:\n",
    "    \"What is the meaning of life? Respond in markdown in 1 header and 2 line paragraph.\",\n",
    "  maxTokens: 100,\n",
    "  temperature: 0.95,\n",
    "  model: openai(\"gpt-4o\"),\n",
    "});\n",
    "\n",
    "Deno.jupyter.md`${text}`;\n"
   ]
  },
  {
   "cell_type": "markdown",
   "metadata": {},
   "source": [
    "## Step 3: Generate Object for Simulating CEO Response\n",
    "In this example, we simulate a process where a user asks a question to the CEO, and the response is analyzed using parameters like intent, confidence, and defensibility.\n",
    "\n",
    "- Simulates asking a question to a CEO and receiving a response, including parameters such as intent, confidence, and defensibility.\n",
    "\n",
    "- It models a response based on structured data, useful for understanding business dynamics."
   ]
  },
  {
   "cell_type": "code",
   "execution_count": null,
   "metadata": {},
   "outputs": [],
   "source": [
    "// Just a crazy example with 'generateObject'\n",
    "import { generateObject } from \"npm:ai\";\n",
    "import { openai } from \"npm:@ai-sdk/openai\";\n",
    "import { z } from \"npm:zod\";\n",
    "\n",
    "const LLMResponse = z.object({\n",
    "  question: z.string(),\n",
    "  intent: z.string(),\n",
    "  confidence: z.number(),\n",
    "  defensibility: z.number(),\n",
    "  yourResponse: z.string(),\n",
    "  CEOResponse: z.string(),\n",
    "  differenceInExpectation: z.string(),\n",
    "});\n",
    "\n",
    "const { object } = await generateObject({\n",
    "  system: \"You are an intelligent AI system for generating responses.\",\n",
    "  prompt:\n",
    "    \"Simulate the process of asking a question to the CEO and receiving a response. Make sure you compute all the required parameters in the schema.\",\n",
    "  maxTokens: 500,\n",
    "  temperature: 0.95,\n",
    "  model: openai(\"gpt-4o\"),\n",
    "  schema: LLMResponse,\n",
    "});\n",
    "\n",
    "console.log(JSON.stringify(object, null, 2));\n"
   ]
  },
  {
   "cell_type": "markdown",
   "metadata": {},
   "source": [
    "## Step 4: Search the Web Using Google API\n",
    "This example demonstrates how to use a Google Search API to fetch search results for a specific query.\n",
    "\n",
    "- Uses a Google Search API to search for a query (e.g., \"What is the meaning of life?\").\n",
    "\n",
    "- It demonstrates how to make API calls to external services and handle responses in JavaScript."
   ]
  },
  {
   "cell_type": "code",
   "execution_count": null,
   "metadata": {},
   "outputs": [],
   "source": [
    "import { load } from \"https://deno.land/std@0.184.0/dotenv/mod.ts\";\n",
    "\n",
    "const env = await load({ envPath: \"./.env\" });\n",
    "\n",
    "async function search(query: string): Promise<any> {\n",
    "  const url = \"https://google.serper.dev/search\";\n",
    "  const options = {\n",
    "    method: \"POST\",\n",
    "    headers: {\n",
    "      \"X-API-KEY\": env.SERPER_API_KEY,\n",
    "      \"Content-Type\": \"application/json\",\n",
    "    },\n",
    "    body: JSON.stringify({\n",
    "      q: query,\n",
    "    }),\n",
    "  };\n",
    "\n",
    "  try {\n",
    "    const response = await fetch(url, options);\n",
    "    if (!response.ok) {\n",
    "      const body = await response.text();\n",
    "      console.error(\"Search query failed: \", response.status, body);\n",
    "      return null;\n",
    "    }\n",
    "    const responseData = await response.json();\n",
    "    return responseData;\n",
    "  } catch (error: any) {\n",
    "    console.error(\"Unexpected error during search: \", error.message);\n",
    "    return null;\n",
    "  }\n",
    "}\n",
    "\n",
    "(globalThis as any).search = search;\n",
    "\n",
    "const searchInternet = (globalThis as any).search;\n",
    "const result = await searchInternet(\"what is the meaning of life?\");\n",
    "console.log(JSON.stringify(result, null, 2));\n"
   ]
  },
  {
   "cell_type": "markdown",
   "metadata": {},
   "source": [
    "## Step 5: Scrape Web Page and Convert to Markdown\n",
    "\n",
    "- Scrapes a webpage and converts its content into markdown format using the Firecrawl API.\n",
    "\n",
    "- This helps in extracting structured content from web pages for easy presentation in markdown format."
   ]
  },
  {
   "cell_type": "code",
   "execution_count": null,
   "metadata": {},
   "outputs": [],
   "source": [
    "async function scrapePageAndGetMarkdown(url: string): Promise<any> {\n",
    "  const apiKey = (globalThis as any).env.FIRECRAWL_API_KEY;\n",
    "  const apiUrl = \"https://api.firecrawl.dev/v1/scrape\";\n",
    "  const options = {\n",
    "    method: \"POST\",\n",
    "    headers: {\n",
    "      \"Content-Type\": \"application/json\",\n",
    "      Authorization: `Bearer ${apiKey}`,\n",
    "    },\n",
    "    body: JSON.stringify({\n",
    "      url: url,\n",
    "      formats: [\"markdown\"],\n",
    "    }),\n",
    "  };\n",
    "\n",
    "  try {\n",
    "    const response = await fetch(apiUrl, options);\n",
    "\n",
    "    if (!response.ok) {\n",
    "      const body = await response.text();\n",
    "      console.error(\"Page retrieval failed: \", response.status, body);\n",
    "      return null;\n",
    "    }\n",
    "\n",
    "    const responseData = await response.json();\n",
    "    const markdown = responseData.data.markdown;\n",
    "    return markdown;\n",
    "  } catch (error: any) {\n",
    "    console.error(\"Error:\", error.message);\n",
    "  }\n",
    "}\n",
    "\n",
    "(globalThis as any).scrapePageAndGetMarkdown = scrapePageAndGetMarkdown;\n",
    "\n",
    "const getPageMarkdown = (globalThis as any).scrapePageAndGetMarkdown;\n",
    "\n",
    "const url = \"https://www.firecrawl.dev/\";\n",
    "const result = await getPageMarkdown(url);\n",
    "Deno.jupyter.md`${result}`;"
   ]
  },
  {
   "cell_type": "markdown",
   "metadata": {},
   "source": [
    "## Conclusion:\n",
    "\n",
    "In this notebook, we’ve demonstrated how to use JavaScript and TypeScript alongside Deno to integrate various APIs. From querying OpenAI for intelligent text generation to scraping web pages and querying Google, this series expands on using modern JS tools in an unconventional Python setting."
   ]
  },
  {
   "cell_type": "markdown",
   "metadata": {},
   "source": [
    "---\n",
    "\n",
    "# Thank You for visiting The Hackers Playbook! 🌐\n",
    "\n",
    "If you liked this research material;\n",
    "\n",
    "- [Subscribe to our newsletter.](https://thehackersplaybook.substack.com)\n",
    "\n",
    "- [Follow us on LinkedIn.](https://www.linkedin.com/company/the-hackers-playbook/)\n",
    "\n",
    "- [Leave a star on our GitHub.](https://www.github.com/thehackersplaybook)\n",
    "\n",
    "<div style=\"display:flex; align-items:center; padding: 50px;\">\n",
    "<p style=\"margin-right:10px;\">\n",
    "    <img height=\"200px\" style=\"width:auto;\" width=\"200px\" src=\"https://avatars.githubusercontent.com/u/192148546?s=400&u=95d76fbb02e6c09671d87c9155f17ca1e4ef8f21&v=4\"> \n",
    "</p>\n",
    "</div>\n",
    "\n"
   ]
  }
 ],
 "metadata": {
  "kernelspec": {
   "display_name": "Deno",
   "language": "typescript",
   "name": "deno"
  },
  "language_info": {
   "codemirror_mode": "typescript",
   "file_extension": ".ts",
   "mimetype": "text/x.typescript",
   "name": "typescript",
   "nbconvert_exporter": "script",
   "pygments_lexer": "typescript",
   "version": "5.6.2"
  }
 },
 "nbformat": 4,
 "nbformat_minor": 2
}
