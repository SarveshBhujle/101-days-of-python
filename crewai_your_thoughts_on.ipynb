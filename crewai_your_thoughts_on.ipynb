{
 "cells": [
  {
   "cell_type": "markdown",
   "metadata": {},
   "source": [
    "# YTO: 'Your Thoughts On' with CrewAI 💎\n",
    "\n",
    "Get a bunch of agents to give us 'your thoughts on' a particular topic! 📲\n",
    "\n",
    "> ⚡️ Day 1 of 101 Days of Python at The Hackers Playbook.\n",
    "\n",
    "**Instructions:**\n",
    "\n",
    "- Make sure you run the first cell which installs all the requirements.\n",
    "- Add the .env file to the root folder, you can check env.template to know which fields to add.\n"
   ]
  },
  {
   "cell_type": "markdown",
   "metadata": {},
   "source": [
    "# Step 1: Install Requirements\n",
    "\n",
    "- Install all the requirements that are specified in the `requirements.txt` file in the root folder.\n",
    "- Make sure you set up a virtual environment before installing requirements.\n",
    "- To setup a virtual environment, run `python3 -m venv env`.\n",
    "- To activate the env on Linux / MacOS, run `. env/bin/activate` (for Windows the command is different, figure it out).\n"
   ]
  },
  {
   "cell_type": "code",
   "execution_count": null,
   "metadata": {},
   "outputs": [],
   "source": [
    "import os\n",
    "\n",
    "os.system(\"pip install -r requirements.txt\")"
   ]
  },
  {
   "cell_type": "markdown",
   "metadata": {},
   "source": [
    "# Step 2\n",
    "\n",
    "- Setup the env file: In the root folder create a `.env` file.\n",
    "- Add `OPENAI_API_KEY=your-openai-key`.\n",
    "- Add `SERP_API_KEY=your-serp-key`\n"
   ]
  },
  {
   "cell_type": "code",
   "execution_count": null,
   "metadata": {},
   "outputs": [],
   "source": [
    "from dotenv import load_dotenv\n",
    "\n",
    "load_dotenv()"
   ]
  },
  {
   "cell_type": "markdown",
   "metadata": {},
   "source": [
    "# Step 3: Setup configurations\n",
    "\n",
    "We setup a 'bare minimum' config to get crewai running with agents, tasks and crew settings.\n"
   ]
  },
  {
   "cell_type": "code",
   "execution_count": 9,
   "metadata": {},
   "outputs": [],
   "source": [
    "YOT_CREW_CONFIG = {\n",
    "    \"crew\": {\n",
    "        \"verbose\": True,\n",
    "        \"memory\": True,\n",
    "    },\n",
    "    \"agents\": [\n",
    "        {\n",
    "            \"id\": \"1\",\n",
    "            \"role\": \"Philosopher.\",\n",
    "            \"goal\": \"Reflect on the nature of reality.\",\n",
    "            \"backstory\": \"As a philosopher, you are tasked with pondering the deepest questions of existence. Your thoughts have the power to shape the world and inspire generations to come.\",\n",
    "            \"allow_delegation\": True,\n",
    "            \"verbose\": True,\n",
    "        },\n",
    "        {\n",
    "            \"id\": \"2\",\n",
    "            \"role\": \"Devil's Advocate.\",\n",
    "            \"goal\": \"Challenge the status quo.\",\n",
    "            \"backstory\": \"As a devil's advocate, you are tasked with questioning the assumptions and beliefs of others. Your goal is to challenge the status quo and encourage critical thinking.\",\n",
    "            \"allow_delegation\": False,\n",
    "            \"verbose\": True,\n",
    "        },\n",
    "        {\n",
    "            \"id\": \"3\",\n",
    "            \"role\": \"Ethical AI.\",\n",
    "            \"goal\": \"Promote ethical behavior.\",\n",
    "            \"backstory\": \"As an ethical AI, you are programmed to follow the highest standards of moral conduct. Your goal is to promote ethical behavior and prevent harm to others.\",\n",
    "            \"allow_delegation\": False,\n",
    "            \"verbose\": True,\n",
    "        },\n",
    "        {\n",
    "            \"id\": \"4\",\n",
    "            \"role\": \"Topic Explorer.\",\n",
    "            \"goal\": \"Discover new ideas.\",\n",
    "            \"backstory\": \"As a topic explorer, you are driven by curiosity and a thirst for knowledge. Your goal is to discover new ideas and explore the unknown.\",\n",
    "            \"allow_delegation\": False,\n",
    "            \"verbose\": True,\n",
    "        },\n",
    "    ],\n",
    "    \"tasks\": [\n",
    "        {\n",
    "            \"description\": \"Research the topic of {topic} and provide a summary of key insights, including notable trends, emerging technologies, and potential applications.\",\n",
    "            \"expected_output\": \"A detailed report on {topic}, highlighting key findings, relevant data sources, and potential areas for further exploration.\",\n",
    "            \"tools\": [],\n",
    "            \"agent\": {\"id\": \"1\"},\n",
    "        }\n",
    "    ],\n",
    "}"
   ]
  },
  {
   "cell_type": "markdown",
   "metadata": {},
   "source": [
    "# Step 4: Program the 'runner'\n",
    "\n",
    "The `run_crew_from_config` method setups the agents, tasks and crew based on the provided config and writes the generated markdown output to a file.\n"
   ]
  },
  {
   "cell_type": "code",
   "execution_count": 10,
   "metadata": {},
   "outputs": [],
   "source": [
    "from crewai import Agent, Task, Crew\n",
    "from typing import Any\n",
    "from pydantic import BaseModel\n",
    "import copy\n",
    "\n",
    "\n",
    "class YOTInput(BaseModel):\n",
    "    \"\"\"The input data to the program.\"\"\"\n",
    "\n",
    "    topic: str\n",
    "\n",
    "\n",
    "def run_crew_from_config(input: YOTInput, config: Any, output_file=\"output.md\") -> None:\n",
    "    \"\"\"Runs the crew using the specified config and input data.\"\"\"\n",
    "    agents_config = config[\"agents\"]\n",
    "    tasks_config = config[\"tasks\"]\n",
    "    crew_config = config[\"crew\"]\n",
    "\n",
    "    agents = []\n",
    "    for agent_config in agents_config:\n",
    "        agent_config_without_id = copy.deepcopy(agent_config)\n",
    "        del agent_config_without_id[\"id\"]\n",
    "        agent = Agent(**agent_config_without_id)\n",
    "        agents.append(agent)\n",
    "\n",
    "    tasks = []\n",
    "\n",
    "    for task_config in tasks_config:\n",
    "        task_config_without_agent = copy.deepcopy(task_config)\n",
    "        del task_config_without_agent[\"agent\"]\n",
    "        agent = None\n",
    "        for a in agents_config:\n",
    "            if a[\"id\"] == task_config[\"agent\"][\"id\"]:\n",
    "                agent_config_without_id = copy.deepcopy(a)\n",
    "                del agent_config_without_id[\"id\"]\n",
    "                agent = Agent(**agent_config_without_id, llm=\"gpt-4o\")\n",
    "                break\n",
    "        print(agent)\n",
    "        task = Task(**task_config_without_agent, agent=agent)\n",
    "        tasks.append(task)\n",
    "\n",
    "    crew = Crew(\n",
    "        agents=agents,\n",
    "        tasks=tasks,\n",
    "        verbose=crew_config[\"verbose\"],\n",
    "        memory=crew_config[\"memory\"],\n",
    "    )\n",
    "\n",
    "    result = crew.kickoff(inputs={\"topic\": input.topic})\n",
    "    markdown = result.raw\n",
    "\n",
    "    with open(output_file, \"w\") as f:\n",
    "        f.write(markdown)"
   ]
  },
  {
   "cell_type": "markdown",
   "metadata": {},
   "source": [
    "# Step 5: Define an 'Output Renderer'\n",
    "\n",
    "We want to neatly view the generated output in markdown highlighting.\n"
   ]
  },
  {
   "cell_type": "code",
   "execution_count": 11,
   "metadata": {},
   "outputs": [],
   "source": [
    "from IPython.display import Markdown\n",
    "import os\n",
    "\n",
    "\n",
    "def render_output(output_file=\"output.md\") -> None:\n",
    "    \"\"\"Renders the generated output file as markdown.\"\"\"\n",
    "    with open(output_file, \"r\") as f:\n",
    "        markdown = f.read()\n",
    "        return Markdown(markdown)"
   ]
  },
  {
   "cell_type": "markdown",
   "metadata": {},
   "source": [
    "# Step 6: Run\n",
    "\n",
    "Just run the damn thing. Change the topic as per your liking!\n"
   ]
  },
  {
   "cell_type": "code",
   "execution_count": null,
   "metadata": {},
   "outputs": [],
   "source": [
    "import copy\n",
    "import os\n",
    "\n",
    "os.environ.setdefault(\n",
    "    \"OPENAI_API_KEY\",\n",
    "    \"sk-svcacct-ABPsFFMtEWQv1LfXr79pG2RwY9-BimYQNapkz0hobkjzoaRwCQVh_d_2Dujykl5lh4IAwyT3BlbkFJhE6tF5CpYvBkQLXkV7ClYV5WgqX6pM-OeWlv7zdkCPpijIqIH3xjijNw5E9dMBuFBPxGwA\",\n",
    ")\n",
    "\n",
    "config = copy.deepcopy(YOT_CREW_CONFIG)\n",
    "\n",
    "topic = \"The importance of spiritual practice in the modern world and the solution to the famous question 'Are they watching?'...\"\n",
    "\n",
    "run_crew_from_config(YOTInput(topic=topic), config=config, output_file=\"output.md\")"
   ]
  },
  {
   "cell_type": "markdown",
   "metadata": {},
   "source": [
    "# Step 7: View Formatted Markdown Output\n",
    "\n",
    "Ok, everything is done. Let's view the generated markdown!\n"
   ]
  },
  {
   "cell_type": "code",
   "execution_count": null,
   "metadata": {},
   "outputs": [],
   "source": [
    "render_output(output_file=\"output.md\")"
   ]
  },
  {
   "cell_type": "markdown",
   "metadata": {},
   "source": [
    "# Thank You! 👋🏽\n",
    "\n",
    "If you liked this notebook, consider following us on GitHub and LinkedIn. If you enjoy high-quality articles on tech, subscribe to our SubStack Newsletter!\n",
    "\n",
    "**TODO:** Add links here.\n"
   ]
  },
  {
   "cell_type": "markdown",
   "metadata": {},
   "source": []
  }
 ],
 "metadata": {
  "kernelspec": {
   "display_name": ".venv",
   "language": "python",
   "name": "python3"
  },
  "language_info": {
   "codemirror_mode": {
    "name": "ipython",
    "version": 3
   },
   "file_extension": ".py",
   "mimetype": "text/x-python",
   "name": "python",
   "nbconvert_exporter": "python",
   "pygments_lexer": "ipython3",
   "version": "3.12.4"
  }
 },
 "nbformat": 4,
 "nbformat_minor": 2
}
