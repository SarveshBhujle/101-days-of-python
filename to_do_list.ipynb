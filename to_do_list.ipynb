{
 "cells": [
  {
   "cell_type": "markdown",
   "metadata": {},
   "source": [
    "# To Do list\n",
    "\n",
    "**Author**: [Shantanu Borkar](www.linkedin.com/in/shantanubkr)\n",
    "\n",
    "**Reviewer**: [Sarvesh Bhujle](https://www.linkedin.com/in/sarvesh-bhujle-78701231b/)\n",
    "\n",
    "<div style=\"display:flex; align-items:center; padding: 50px;\">\n",
    "<p style=\"margin-right:10px;\">\n",
    "    <img height=\"200px\" style=\"width:auto;\" width=\"200px\" src=\"https://avatars.githubusercontent.com/u/192148546?s=400&u=95d76fbb02e6c09671d87c9155f17ca1e4ef8f21&v=4\"> \n",
    "</p>\n",
    "<p style=\"margin-right:10px;\">\n",
    "    <img height=\"200px\" style=\"width:auto;\" width=\"200px\" src=\"https://encrypted-tbn0.gstatic.com/images?q=tbn:ANd9GcT1lXY8pD3MKHozJHBitTQ4NZsJPYSQsDby0A&s\"> \n",
    "</p>\n",
    "</div>\n",
    "\n",
    "## Objectives \n",
    "\n",
    "- Understand how to **create**, **store**, and **manipulate** a to-do list using Python.\n",
    "\n",
    "- Learn how to use **lists**, **functions**, **loops**, and **conditional statements**.\n",
    "\n",
    "- Implement essential operations: **adding**, **removing**, **displaying**, and **marking** tasks as completed.\n",
    "\n",
    "- Gain hands-on experience with basic user input handling and validation.\n",
    "\n",
    "\n",
    "---"
   ]
  },
  {
   "cell_type": "markdown",
   "metadata": {},
   "source": [
    "### **Step 1: Create a Simple List to Store Tasks**\n",
    "\n",
    "1. Create a **list** named `tasks` to store to-do items.\n",
    "\n",
    "2. Each task is a **string** inside the list.\n",
    "\n",
    "3. This list will be used for **adding, viewing, and modifying tasks**.\n"
   ]
  },
  {
   "cell_type": "code",
   "execution_count": null,
   "metadata": {},
   "outputs": [],
   "source": [
    "tasks = [\"Write an article\", \"Shop for groceries\", \"Go for a walk\", \"Go out with friends\", \"Workout\"]\n",
    "\n",
    "tasks"
   ]
  },
  {
   "cell_type": "markdown",
   "metadata": {},
   "source": [
    "### **Step 2: Display Tasks in a Numbered Format**\n",
    "\n",
    "1. Create a function `show_tasks()` to print tasks in a numbered format.\n",
    "\n",
    "2. Use `enumerate()` to automatically number the tasks.\n",
    "\n",
    "3. Add `\\n` (newline) for better formatting."
   ]
  },
  {
   "cell_type": "code",
   "execution_count": null,
   "metadata": {},
   "outputs": [],
   "source": [
    "def show_tasks():\n",
    "    print(\"\\n📝 To-Do List: \")\n",
    "    for i, task in enumerate(tasks, start=1):\n",
    "        print(f\"{i}. {task}\")\n",
    "\n",
    "show_tasks()"
   ]
  },
  {
   "cell_type": "markdown",
   "metadata": {},
   "source": [
    "### **Step 3: Add a New Task to the List**\n",
    " \n",
    "1. Create a function `add_task(task)` to add a task to the list.\n",
    "\n",
    "2. Use `append()` to add the task to the tasks list.\n",
    "\n",
    "3. Print a confirmation message to let the user know the task was added."
   ]
  },
  {
   "cell_type": "code",
   "execution_count": null,
   "metadata": {},
   "outputs": [],
   "source": [
    "def add_task(task):\n",
    "    tasks.append(task)\n",
    "    print(f\"Task '{task}' has been added to the list.\")\n",
    "\n",
    "add_task(\"Open a PR\")\n",
    "\n",
    "show_tasks()"
   ]
  },
  {
   "cell_type": "markdown",
   "metadata": {},
   "source": [
    "### **Step 4: Remove a Task from the List**\n",
    "\n",
    "1. Create `remove_task(task_number)` to remove a task by its number.\n",
    "\n",
    "2. Check if the task number is **valid** before deleting.\n",
    "\n",
    "3. Use `pop()` to remove the selected task from the list.\n",
    "\n",
    "4. If the task number is **invalid**, display an error message."
   ]
  },
  {
   "cell_type": "code",
   "execution_count": null,
   "metadata": {},
   "outputs": [],
   "source": [
    "def remove_task(task_number):\n",
    "    if 1 <= task_number <= len(tasks):\n",
    "        removed = tasks.pop(task_number -1)\n",
    "        print(f\"Task '{removed}' has been removed from the list. 👋🏽\")\n",
    "    else:\n",
    "        print(\"⚠️ Invalid task number. Please try again.\")\n",
    "\n",
    "remove_task(3)\n",
    "\n",
    "show_tasks()"
   ]
  },
  {
   "cell_type": "markdown",
   "metadata": {},
   "source": [
    "## **Step 5: Mark a Task as Completed**\n",
    "\n",
    "1. Create `mark_as_completed(task_number)` to mark a task as done.\n",
    "\n",
    "2. Check if the task number is **valid** before proceeding.\n",
    "\n",
    "3. If the task is **not already marked**, add a ✅ emoji to it.\n",
    "\n",
    "4. If the task is **already marked**, prevent marking again.\n",
    "\n",
    "5. If the task number is **invalid**, display an error message."
   ]
  },
  {
   "cell_type": "code",
   "execution_count": null,
   "metadata": {},
   "outputs": [],
   "source": [
    "def mark_as_completed(task_number):\n",
    "    if 1 <= task_number <= len(tasks):\n",
    "        if not tasks[task_number - 1].endswith(\"✅\"): \n",
    "            tasks[task_number - 1] = tasks[task_number - 1] + \" ✅\"\n",
    "            print(f\"🎯 Task '{tasks[task_number - 1]}' has been marked as completed.\")\n",
    "        else:\n",
    "            print(\"⚠️ Task is already marked as completed.\")\n",
    "    else:\n",
    "        print(\"⚠️ Invalid task number. Please try again.\")\n",
    "\n",
    "\n",
    "mark_as_completed(5)\n",
    "\n",
    "show_tasks()"
   ]
  },
  {
   "cell_type": "markdown",
   "metadata": {},
   "source": [
    "## Conclusion \n",
    "\n",
    "- You have successfully built a **functional command-line To-Do List** using Python.\n",
    "\n",
    "- This exercise improved your understanding of **list operations**, **function handling**, and **input validation**.\n",
    "\n",
    "- You can extend this project by **adding file storage**, **sorting tasks**, **setting deadlines**, or even a **GUI**.\n",
    "\n",
    "- Experiment further by integrating this with **databases**, **API**s, or **web applications**.\n",
    "\n"
   ]
  },
  {
   "cell_type": "markdown",
   "metadata": {},
   "source": [
    "---\n",
    "\n",
    "\n",
    "\n",
    "# Thank You for visiting The Hackers Playbook! 🌐\n",
    "\n",
    "If you liked this research material;\n",
    "\n",
    "- [Subscribe to our newsletter.](https://thehackersplaybook.substack.com)\n",
    "\n",
    "- [Follow us on LinkedIn.](https://www.linkedin.com/company/the-hackers-playbook/)\n",
    "\n",
    "- [Leave a star on our GitHub.](https://www.github.com/thehackersplaybook)\n",
    "\n",
    "<div style=\"display:flex; align-items:center; padding: 50px;\">\n",
    "<p style=\"margin-right:10px;\">\n",
    "    <img height=\"200px\" style=\"width:auto;\" width=\"200px\" src=\"https://avatars.githubusercontent.com/u/192148546?s=400&u=95d76fbb02e6c09671d87c9155f17ca1e4ef8f21&v=4\"> \n",
    "</p>\n",
    "</div>\n"
   ]
  }
 ],
 "metadata": {
  "kernelspec": {
   "display_name": "Python 3",
   "language": "python",
   "name": "python3"
  },
  "language_info": {
   "codemirror_mode": {
    "name": "ipython",
    "version": 3
   },
   "file_extension": ".py",
   "mimetype": "text/x-python",
   "name": "python",
   "nbconvert_exporter": "python",
   "pygments_lexer": "ipython3",
   "version": "3.13.1"
  }
 },
 "nbformat": 4,
 "nbformat_minor": 2
}
