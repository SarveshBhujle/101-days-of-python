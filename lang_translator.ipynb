{
 "cells": [
  {
   "cell_type": "markdown",
   "metadata": {},
   "source": [
    "# Language Translator \n",
    "\n",
    "This is a multi-functional language translator built with Streamlit. It offers `text translation`, `speech-to-text`, `text-to-speech conversion`, and `translation history tracking`.\n",
    "\n",
    "<div style=\"display:flex; align-items:center; padding: 50px;\">\n",
    "<p style=\"margin-right:10px;\">\n",
    "    <img height=\"200px\" style=\"width:auto;\" width=\"200px\" src=\"https://avatars.githubusercontent.com/u/192148546?s=400&u=95d76fbb02e6c09671d87c9155f17ca1e4ef8f21&v=4\"> \n",
    "</p>\n",
    "<p style=\"margin-right:10px;\">\n",
    "    <img height=\"200px\" style=\"width:auto;\" width=\"200px\" src=\"https://languageicon.org/language-icon.png\"> \n",
    "</p>\n",
    "\n",
    "</div>\n",
    "\n",
    "## Description\n",
    "\n",
    "- `Text Translation:`\n",
    "    - Automatically translates text between multiple languages.\n",
    "    - Supports source language auto-detection.\n",
    "    - Supports a wide range of target languages.\n",
    "    - Displays translated text.\n",
    "\n",
    "- `Speech-to-Text:`\n",
    "    - Converts uploaded audio files (WAV format) to text.\n",
    "    - Uses Google Speech Recognition for accurate text conversion.\n",
    "\n",
    "- `Text-to-Speech:`\n",
    "    - Converts text input into speech.\n",
    "    - Allows selection of a language for speech output.\n",
    "    - Provides a download link for the generated speech as an MP3 file.\n",
    "\n",
    "- `Translation History:`\n",
    "\n",
    "    - Keeps track of all translation activities.\n",
    "    - Displays previous source text and its translated counterpart.\n",
    "    - Option to clear the history.\n",
    "\n",
    "Simple and user-friendly design built with `Streamlit`.\n"
   ]
  },
  {
   "cell_type": "markdown",
   "metadata": {},
   "source": [
    "## Steps to Use the Language Translator App:\n",
    "- Launch the application by running streamlit run your_app_name.py.\n",
    "- The app interface will open in your browser with the following features:\n"
   ]
  },
  {
   "cell_type": "markdown",
   "metadata": {},
   "source": [
    "## Step 1: Install Requirements\n",
    "\n",
    "To run this application, ensure you have Python installed on your system. Then, follow these steps:\n",
    "\n",
    "1. Create a virtual environment (optional but recommended):\n",
    "\n",
    "- Install all the requirements that are specified in the `requirements.txt` file in the root folder. \n",
    "- Make sure you set up a virtual environment before installing requirements. \n",
    "- To setup a virtual environment, run `python3 -m venv env`. \n",
    "- To activate the env on Linux / MacOS, run `. env/bin/activate` (for Windows the command is different, figure it out)."
   ]
  },
  {
   "cell_type": "code",
   "execution_count": null,
   "metadata": {},
   "outputs": [],
   "source": [
    "import os\n",
    "os.system('pip install -r requirements.txt')"
   ]
  },
  {
   "cell_type": "markdown",
   "metadata": {},
   "source": [
    "## Step 2: Import Libraries\n",
    "\n",
    "These imports bring in the necessary libraries for the application:\n",
    "\n",
    "- `streamlit` for creating the web interface.\n",
    "\n",
    "- `googletrans` for translating text.\n",
    "\n",
    "- `pyttsx3` for converting text to speech.\n",
    "\n",
    "- `os` and `base64` for file handling and encoding.\n",
    "\n",
    "- `speech_recognition` for converting speech (audio) to text."
   ]
  },
  {
   "cell_type": "markdown",
   "metadata": {},
   "source": [
    "## Step 3: Page Configuration\n",
    "\n",
    "Set up the Streamlit page configuration, including:\n",
    "\n",
    "- The page title.\n",
    "- The layout (wide to make use of the space).\n",
    "- A page icon to represent the app.\n",
    "\n",
    "\n"
   ]
  },
  {
   "cell_type": "markdown",
   "metadata": {},
   "source": [
    "## Step 4: Add a Title and Description\n",
    "\n",
    "Set the main title of the app as `Translator App` and add a markdown text below the title that describes the app as a language translator app. This helps users understand what the app does and how it works."
   ]
  },
  {
   "cell_type": "markdown",
   "metadata": {},
   "source": [
    "## Step 5: Initialize Translator\n",
    "Initialize the Google Translate API, enabling translation capabilities for the app.\n",
    "\n",
    "\n"
   ]
  },
  {
   "cell_type": "markdown",
   "metadata": {},
   "source": [
    "## Step 6: Sidebar for Feature Selection\n",
    "\n",
    "Create a sidebar where the user can select one of four features:\n",
    "\n",
    "- Text Translation\n",
    "\n",
    "- Speech-to-Text\n",
    "\n",
    "- Text-to-Speech\n",
    "\n",
    "- Translation History\n"
   ]
  },
  {
   "cell_type": "markdown",
   "metadata": {},
   "source": [
    "## Step 7:  Initialize Session State\n",
    "\n",
    "Ensure that the translation history is stored in the `session state`, so it persists across user interactions. If no history exists, it initializes an empty list."
   ]
  },
  {
   "cell_type": "markdown",
   "metadata": {},
   "source": [
    "## Step 8: Function to Get Language Code\n",
    "\n",
    "Create a helper function that takes the language name as input and returns the corresponding language code required by the Google Translate API."
   ]
  },
  {
   "cell_type": "markdown",
   "metadata": {},
   "source": [
    "# `Feature: Text Translation`"
   ]
  },
  {
   "cell_type": "markdown",
   "metadata": {},
   "source": [
    "## Step 9: Text Translation Input\n",
    "\n",
    "This part shows the text input area for users to enter the text they want to translate. It also provides drop-down menus to select the source and target languages. "
   ]
  },
  {
   "cell_type": "markdown",
   "metadata": {},
   "source": [
    "## Step 10: Translation Logic and Display\n",
    "\n",
    "- When the \"Translate\" button is pressed, the entered text is sent for translation.\n",
    "\n",
    "- If the source language is \"Auto-detect,\" the system automatically detects it; otherwise, it uses the selected language.\n",
    "\n",
    "- The translated text is displayed and added to the translation history."
   ]
  },
  {
   "cell_type": "markdown",
   "metadata": {},
   "source": [
    "# `Feature: Speech-to-Text`"
   ]
  },
  {
   "cell_type": "markdown",
   "metadata": {},
   "source": [
    "## Step 11: Upload Audio File for Speech-to-Text\n",
    "\n",
    "- The user uploads a .wav audio file, which is then processed by the Speech Recognition library.\n",
    "\n",
    "- The audio file is converted to text, which is then displayed.\n"
   ]
  },
  {
   "cell_type": "markdown",
   "metadata": {},
   "source": [
    "# `Feature: Text-to-Speech`"
   ]
  },
  {
   "cell_type": "markdown",
   "metadata": {},
   "source": [
    "## Step 12: Text-to-Speech Input and Logic\n",
    "\n",
    "- The user enters text to be converted into speech.\n",
    "\n",
    "- The text is processed using the pyttsx3 engine, which converts the text to an audio file.\n",
    "\n",
    "- The audio file is played directly in the app and also provided as a download link.\n",
    "\n",
    "- The temporary audio file is deleted after playback."
   ]
  },
  {
   "cell_type": "markdown",
   "metadata": {},
   "source": [
    "# `Feature: Translation History`"
   ]
  },
  {
   "cell_type": "markdown",
   "metadata": {},
   "source": [
    "## Step 13: View and Clear Translation History\n",
    "\n",
    "- Displays the translation history from the session state. \n",
    "\n",
    "- If translations exist, they are shown with their source and target languages.\n",
    "\n",
    "- Users can clear the history.\n",
    "\n"
   ]
  },
  {
   "cell_type": "markdown",
   "metadata": {},
   "source": [
    "## Step 14: Add Footer\n",
    "\n",
    "Add a `footer` to the app for branding or credits.\n"
   ]
  },
  {
   "cell_type": "code",
   "execution_count": null,
   "metadata": {},
   "outputs": [],
   "source": [
    "st.markdown(\n",
    "        \"\"\"\n",
    "        <style>\n",
    "        .bottom-right {\n",
    "            position: fixed;\n",
    "            bottom: 10px;\n",
    "            right: 15px;\n",
    "            font-size: 0.9em;\n",
    "            color: gray;\n",
    "        }\n",
    "        </style>\n",
    "        <div class=\"bottom-right\">\n",
    "            your-brading-name or credits\n",
    "        </div>\n",
    "        \"\"\",\n",
    "        unsafe_allow_html=True\n",
    "                )\n"
   ]
  },
  {
   "cell_type": "markdown",
   "metadata": {},
   "source": [
    "## Step 14: Launch Application:\n",
    "\n",
    "Run the application by executing `streamlit run your_file_name.py` in your terminal with the correct path to the app file.\n"
   ]
  },
  {
   "cell_type": "code",
   "execution_count": null,
   "metadata": {},
   "outputs": [],
   "source": [
    "import os\n",
    "\n",
    "def run_command(cmd):\n",
    "    os.system(cmd)\n",
    "\n",
    "run_command(\"streamlit run streamlit/lang_translator.py\")"
   ]
  },
  {
   "cell_type": "markdown",
   "metadata": {},
   "source": [
    "---\n",
    "\n",
    "# Thank You for visiting The Hackers Playbook! 🌐\n",
    "\n",
    "If you liked this research material;\n",
    "\n",
    "- [Subscribe to our newsletter.](https://thehackersplaybook.substack.com)\n",
    "\n",
    "- [Follow us on LinkedIn.](https://www.linkedin.com/company/the-hackers-playbook/)\n",
    "\n",
    "- [Leave a star on our GitHub.](https://www.github.com/thehackersplaybook)\n",
    "\n",
    "<div style=\"display:flex; align-items:center; padding: 50px;\">\n",
    "<p style=\"margin-right:10px;\">\n",
    "    <img height=\"200px\" style=\"width:auto;\" width=\"200px\" src=\"https://avatars.githubusercontent.com/u/192148546?s=400&u=95d76fbb02e6c09671d87c9155f17ca1e4ef8f21&v=4\"> \n",
    "</p>\n",
    "</div>\n"
   ]
  }
 ],
 "metadata": {
  "language_info": {
   "name": "python"
  }
 },
 "nbformat": 4,
 "nbformat_minor": 2
}
