{
 "cells": [
  {
   "cell_type": "markdown",
   "metadata": {},
   "source": [
    "# Language Translator \n",
    "\n",
    "This is a multi-functional language translator built with Streamlit. It offers `text translation`, `speech-to-text`, `text-to-speech conversion`, and `translation history tracking`.\n",
    "\n",
    "<div style=\"display:flex; align-items:center; padding: 50px;\">\n",
    "<p style=\"margin-right:10px;\">\n",
    "    <img height=\"200px\" style=\"width:auto;\" width=\"200px\" src=\"https://avatars.githubusercontent.com/u/192148546?s=400&u=95d76fbb02e6c09671d87c9155f17ca1e4ef8f21&v=4\"> \n",
    "</p>\n",
    "<p style=\"margin-right:10px;\">\n",
    "    <img height=\"200px\" style=\"width:auto;\" width=\"200px\" src=\"https://languageicon.org/language-icon.png\"> \n",
    "</p>\n",
    "\n",
    "</div>\n",
    "\n",
    "## Description\n",
    "\n",
    "- `Text Translation:`\n",
    "    - Automatically translates text between multiple languages.\n",
    "    - Supports source language auto-detection.\n",
    "    - Supports a wide range of target languages.\n",
    "    - Displays translated text.\n",
    "\n",
    "- `Speech-to-Text:`\n",
    "    - Converts uploaded audio files (WAV format) to text.\n",
    "    - Uses Google Speech Recognition for accurate text conversion.\n",
    "\n",
    "- `Text-to-Speech:`\n",
    "    - Converts text input into speech.\n",
    "    - Allows selection of a language for speech output.\n",
    "    - Provides a download link for the generated speech as an MP3 file.\n",
    "\n",
    "- `Translation History:`\n",
    "\n",
    "    - Keeps track of all translation activities.\n",
    "    - Displays previous source text and its translated counterpart.\n",
    "    - Option to clear the history.\n",
    "\n",
    "Simple and user-friendly design built with `Streamlit`.\n"
   ]
  },
  {
   "cell_type": "markdown",
   "metadata": {},
   "source": [
    "## Steps to Use the Language Translator App:\n",
    "- Launch the application by running streamlit run your_app_name.py.\n",
    "- The app interface will open in your browser with the following features:\n"
   ]
  },
  {
   "cell_type": "markdown",
   "metadata": {},
   "source": [
    "## Step 1: Install Requirements\n",
    "\n",
    "To run this application, ensure you have Python installed on your system. Then, follow these steps:\n",
    "\n",
    "1. Create a virtual environment (optional but recommended):\n",
    "\n",
    "- Install all the requirements that are specified in the `requirements.txt` file in the root folder. \n",
    "- Make sure you set up a virtual environment before installing requirements. \n",
    "- To setup a virtual environment, run `python3 -m venv env`. \n",
    "- To activate the env on Linux / MacOS, run `. env/bin/activate` (for Windows the command is different, figure it out)."
   ]
  },
  {
   "cell_type": "code",
   "execution_count": null,
   "metadata": {},
   "outputs": [],
   "source": [
    "import os\n",
    "os.system('pip install -r requirements.txt')"
   ]
  },
  {
   "cell_type": "markdown",
   "metadata": {},
   "source": [
    "## Step 2: Import Libraries\n",
    "\n",
    "These imports bring in the necessary libraries for the application:\n",
    "\n",
    "- `streamlit` for creating the web interface.\n",
    "\n",
    "- `googletrans` for translating text.\n",
    "\n",
    "- `pyttsx3` for converting text to speech.\n",
    "\n",
    "- `os` and `base64` for file handling and encoding.\n",
    "\n",
    "- `speech_recognition` for converting speech (audio) to text."
   ]
  },
  {
   "cell_type": "code",
   "execution_count": null,
   "metadata": {},
   "outputs": [],
   "source": [
    "import streamlit as st\n",
    "from googletrans import Translator, LANGUAGES\n",
    "import pyttsx3\n",
    "import os\n",
    "import base64\n",
    "import speech_recognition as sr\n"
   ]
  },
  {
   "cell_type": "markdown",
   "metadata": {},
   "source": [
    "## Step 3: Page Configuration\n",
    "\n",
    "This sets up the Streamlit page configuration, including:\n",
    "\n",
    "- The page title.\n",
    "- The layout (wide to make use of the space).\n",
    "- A page icon to represent the app.\n",
    "\n",
    "\n"
   ]
  },
  {
   "cell_type": "code",
   "execution_count": null,
   "metadata": {},
   "outputs": [],
   "source": [
    "st.set_page_config(\n",
    "    page_title=\"Professional Language Translator\", layout=\"wide\", page_icon=\"🌐\"\n",
    ")\n"
   ]
  },
  {
   "cell_type": "markdown",
   "metadata": {},
   "source": [
    "## Step 4: Add a Title and Description\n",
    "\n",
    "This sets the main title of the app as `Translator App` and adds a markdown text below the title that describes the app as a language translator app. This helps users understand what the app does and how it works."
   ]
  },
  {
   "cell_type": "code",
   "execution_count": null,
   "metadata": {},
   "outputs": [],
   "source": [
    "st.title(\"🌐 Professional Language Translator\")\n",
    "st.markdown(\"Translate text, detect languages, and convert between text and speech with ease.\")\n"
   ]
  },
  {
   "cell_type": "markdown",
   "metadata": {},
   "source": [
    "## Step 5: Initialize Translator\n",
    "\n",
    "This initializes the Google Translate API, enabling translation capabilities for the app.\n",
    "\n",
    "\n"
   ]
  },
  {
   "cell_type": "code",
   "execution_count": null,
   "metadata": {},
   "outputs": [],
   "source": [
    "translator = Translator()\n"
   ]
  },
  {
   "cell_type": "markdown",
   "metadata": {},
   "source": [
    "## Step 6: Sidebar for Feature Selection\n",
    "\n",
    "This creates a sidebar where the user can select one of four features:\n",
    "\n",
    "- Text Translation\n",
    "\n",
    "- Speech-to-Text\n",
    "\n",
    "- Text-to-Speech\n",
    "\n",
    "- Translation History\n"
   ]
  },
  {
   "cell_type": "code",
   "execution_count": null,
   "metadata": {},
   "outputs": [],
   "source": [
    "st.sidebar.title(\"Features\")\n",
    "feature = st.sidebar.radio(\n",
    "    \"Choose a feature\",\n",
    "    [\"Text Translation\", \"Speech-to-Text\", \"Text-to-Speech\", \"Translation History\"]\n",
    ")\n"
   ]
  },
  {
   "cell_type": "markdown",
   "metadata": {},
   "source": [
    "## Step 7:  Initialize Session State\n",
    "\n",
    "This ensures that the translation history is stored in the `session state`, so it persists across user interactions. If no history exists, it initializes an empty list."
   ]
  },
  {
   "cell_type": "code",
   "execution_count": null,
   "metadata": {},
   "outputs": [],
   "source": [
    "if \"history\" not in st.session_state:\n",
    "    st.session_state.history = []\n"
   ]
  },
  {
   "cell_type": "markdown",
   "metadata": {},
   "source": [
    "## Step 8: Function to Get Language Code\n",
    "\n",
    "This helper function takes the language name as input and returns the corresponding language code required by the Google Translate API."
   ]
  },
  {
   "cell_type": "code",
   "execution_count": null,
   "metadata": {},
   "outputs": [],
   "source": [
    "def get_language_code(language):\n",
    "    return list(LANGUAGES.keys())[list(LANGUAGES.values()).index(language.lower())]\n"
   ]
  },
  {
   "cell_type": "markdown",
   "metadata": {},
   "source": [
    "# Feature: Text Translation"
   ]
  },
  {
   "cell_type": "markdown",
   "metadata": {},
   "source": [
    "## Step 9: Text Translation Input\n",
    "\n",
    "This part shows the text input area for users to enter the text they want to translate. It also provides drop-down menus to select the source and target languages."
   ]
  },
  {
   "cell_type": "code",
   "execution_count": null,
   "metadata": {},
   "outputs": [],
   "source": [
    "if feature == \"Text Translation\":\n",
    "    st.header(\"Text Translation\")\n",
    "    text_to_translate = st.text_area(\"Enter text to translate:\", placeholder=\"Type something here...\")\n",
    "    source_language = st.selectbox(\n",
    "        \"Select source language:\",\n",
    "        [\"Auto-detect\"] + [lang.capitalize() for lang in LANGUAGES.values()]\n",
    "    )\n",
    "    target_language = st.selectbox(\n",
    "        \"Select target language:\",\n",
    "        [lang.capitalize() for lang in LANGUAGES.values()]\n",
    "    )\n"
   ]
  },
  {
   "cell_type": "markdown",
   "metadata": {},
   "source": [
    "## Step 10: Translation Logic and Display\n",
    "\n",
    "- When the \"Translate\" button is pressed, the entered text is sent for translation.\n",
    "\n",
    "- If the source language is \"Auto-detect,\" the system automatically detects it; otherwise, it uses the selected language.\n",
    "\n",
    "- The translated text is displayed and added to the translation history."
   ]
  },
  {
   "cell_type": "code",
   "execution_count": null,
   "metadata": {},
   "outputs": [],
   "source": [
    "if st.button(\"Translate\"):\n",
    "    if text_to_translate.strip():\n",
    "        try:\n",
    "            src_code = (\n",
    "                \"auto\"\n",
    "                if source_language == \"Auto-detect\"\n",
    "                else get_language_code(source_language)\n",
    "            )\n",
    "            dest_code = get_language_code(target_language)\n",
    "            \n",
    "            translation = translator.translate(text_to_translate, src=src_code, dest=dest_code)\n",
    "            st.success(f\"**Translated Text ({target_language}):**\")\n",
    "            st.write(translation.text)\n",
    "            \n",
    "            st.session_state.history.append({\n",
    "                \"source_text\": text_to_translate,\n",
    "                \"translated_text\": translation.text,\n",
    "                \"source_lang\": source_language,\n",
    "                \"target_lang\": target_language\n",
    "            })\n",
    "        except Exception as e:\n",
    "            st.error(f\"Error: {e}\")\n",
    "    else:\n",
    "        st.warning(\"Please enter text to translate!\")\n"
   ]
  },
  {
   "cell_type": "markdown",
   "metadata": {},
   "source": [
    "# Feature: Speech-to-Text"
   ]
  },
  {
   "cell_type": "markdown",
   "metadata": {},
   "source": [
    "## Step 11: Upload Audio File for Speech-to-Text\n",
    "\n",
    "- The user uploads a .wav audio file, which is then processed by the Speech Recognition library.\n",
    "\n",
    "- The audio file is converted to text, which is then displayed.\n"
   ]
  },
  {
   "cell_type": "code",
   "execution_count": null,
   "metadata": {},
   "outputs": [],
   "source": [
    "elif feature == \"Speech-to-Text\":\n",
    "    st.header(\"Speech-to-Text\")\n",
    "    st.markdown(\"Upload an audio file, and we will convert it to text.\")\n",
    "    \n",
    "    uploaded_file = st.file_uploader(\"Upload audio file (WAV format):\", type=[\"wav\"])\n",
    "    \n",
    "    if uploaded_file is not None:\n",
    "        recognizer = sr.Recognizer()\n",
    "        with sr.AudioFile(uploaded_file) as source:\n",
    "            audio = recognizer.record(source)\n",
    "        \n",
    "        try:\n",
    "            text = recognizer.recognize_google(audio)\n",
    "            st.success(\"Converted Text:\")\n",
    "            st.write(text)\n",
    "        except Exception as e:\n",
    "            st.error(f\"Error in speech recognition: {e}\")"
   ]
  },
  {
   "cell_type": "markdown",
   "metadata": {},
   "source": [
    "# Feature: Text-to-Speech\n"
   ]
  },
  {
   "cell_type": "markdown",
   "metadata": {},
   "source": [
    "## Step 12: Text-to-Speech Input and Logic\n",
    "\n",
    "- The user enters text to be converted into speech.\n",
    "\n",
    "- The text is processed using the pyttsx3 engine, which converts the text to an audio file.\n",
    "\n",
    "- The audio file is played directly in the app and also provided as a download link.\n",
    "\n",
    "- The temporary audio file is deleted after playback."
   ]
  },
  {
   "cell_type": "code",
   "execution_count": null,
   "metadata": {},
   "outputs": [],
   "source": [
    "elif feature == \"Text-to-Speech\":\n",
    "    st.header(\"Text-to-Speech\")\n",
    "    \n",
    "    text_to_convert = st.text_area(\"Enter text to convert to speech:\")\n",
    "    language = st.selectbox(\"Select language:\", [lang.capitalize() for lang in LANGUAGES.values()])\n",
    "    \n",
    "    if st.button(\"Convert to Speech\"):\n",
    "        if text_to_convert.strip():\n",
    "            try:\n",
    "                engine = pyttsx3.init()\n",
    "                rate = engine.getProperty('rate')\n",
    "                engine.setProperty('rate', rate )\n",
    "                \n",
    "                audio_file = \"output.mp3\"\n",
    "                engine.save_to_file(text_to_convert, audio_file)\n",
    "                engine.runAndWait()\n",
    "                with open(audio_file, \"rb\") as file:\n",
    "                    audio_bytes = file.read()\n",
    "                    b64 = base64.b64encode(audio_bytes).decode()\n",
    "                    href = f'<a href=\"data:audio/mp3;base64,{b64}\" download=\"translated_audio.mp3\">Download Audio</a>'\n",
    "                    st.markdown(href, unsafe_allow_html=True)\n",
    "                    st.audio(audio_bytes, format=\"audio/mp3\")\n",
    "                \n",
    "                os.remove(audio_file)\n",
    "            except Exception as e:\n",
    "                st.error(f\"Error in text-to-speech conversion: {e}\")\n",
    "        else:\n",
    "            st.warning(\"Please enter text to convert!\")"
   ]
  },
  {
   "cell_type": "markdown",
   "metadata": {},
   "source": [
    "# Feature: Translation History"
   ]
  },
  {
   "cell_type": "markdown",
   "metadata": {},
   "source": [
    "## Step 13: View and Clear Translation History\n",
    "\n",
    "- Displays the translation history from the session state. \n",
    "\n",
    "- If translations exist, they are shown with their source and target languages.\n",
    "\n",
    "- Users can clear the history.\n",
    "\n"
   ]
  },
  {
   "cell_type": "code",
   "execution_count": null,
   "metadata": {},
   "outputs": [],
   "source": [
    "elif feature == \"Translation History\":\n",
    "    st.header(\"Translation History\")\n",
    "    \n",
    "    if st.session_state.history:\n",
    "        for i, entry in enumerate(st.session_state.history):\n",
    "            st.write(f\"**{i+1}. Source ({entry['source_lang']}):** {entry['source_text']}\")\n",
    "            st.write(f\"**Translated ({entry['target_lang']}):** {entry['translated_text']}\")\n",
    "            st.markdown(\"---\")\n",
    "        \n",
    "        if st.button(\"Clear History\"):\n",
    "            st.session_state.history = []\n",
    "            st.success(\"Translation history cleared!\")\n",
    "    else:\n",
    "        st.info(\"No translations yet!\")\n"
   ]
  },
  {
   "cell_type": "markdown",
   "metadata": {},
   "source": [
    "## Footer"
   ]
  },
  {
   "cell_type": "code",
   "execution_count": null,
   "metadata": {},
   "outputs": [],
   "source": [
    "st.markdown(\n",
    "        \"\"\"\n",
    "        <style>\n",
    "        .bottom-right {\n",
    "            position: fixed;\n",
    "            bottom: 10px;\n",
    "            right: 15px;\n",
    "            font-size: 0.9em;\n",
    "            color: gray;\n",
    "        }\n",
    "        </style>\n",
    "        <div class=\"bottom-right\">\n",
    "            Made with ⚡ at 'The Hackers Playbook' ©. All rights reserved.\n",
    "        </div>\n",
    "        \"\"\",\n",
    "        unsafe_allow_html=True\n",
    "                )\n"
   ]
  },
  {
   "cell_type": "markdown",
   "metadata": {},
   "source": [
    "## Step 14: Launch Application:\n",
    "Run the application by executing `streamlit run lang_translator.py`.\n"
   ]
  },
  {
   "cell_type": "code",
   "execution_count": null,
   "metadata": {},
   "outputs": [],
   "source": [
    "streamlit run lang_translator.py"
   ]
  },
  {
   "cell_type": "markdown",
   "metadata": {},
   "source": [
    "## Here is the complete code for the Translator App\n",
    "\n",
    "```python\n",
    "\n",
    "import streamlit as st\n",
    "from googletrans import Translator, LANGUAGES\n",
    "import pyttsx3\n",
    "import os\n",
    "import base64\n",
    "import speech_recognition as sr\n",
    "\n",
    "# Page Configuration\n",
    "st.set_page_config(\n",
    "    page_title=\"Professional Language Translator\", layout=\"wide\", page_icon=\"🌐\"\n",
    ")\n",
    "\n",
    "# Title\n",
    "st.title(\"🌐 Professional Language Translator\")\n",
    "st.markdown(\"Translate text, detect languages, and convert between text and speech with ease.\")\n",
    "\n",
    "# Initialize Translator\n",
    "translator = Translator()\n",
    "\n",
    "# Sidebar for Features\n",
    "st.sidebar.title(\"Features\")\n",
    "feature = st.sidebar.radio(\n",
    "    \"Choose a feature\",\n",
    "    [\"Text Translation\", \"Speech-to-Text\", \"Text-to-Speech\", \"Translation History\"]\n",
    ")\n",
    "\n",
    "# Initialize Session State\n",
    "if \"history\" not in st.session_state:\n",
    "    st.session_state.history = []\n",
    "\n",
    "# Function to Get Language Code\n",
    "def get_language_code(language):\n",
    "    return list(LANGUAGES.keys())[list(LANGUAGES.values()).index(language.lower())]\n",
    "\n",
    "# Text Translation\n",
    "if feature == \"Text Translation\":\n",
    "    st.header(\"Text Translation\")\n",
    "    \n",
    "    text_to_translate = st.text_area(\"Enter text to translate:\", placeholder=\"Type something here...\")\n",
    "    \n",
    "    source_language = st.selectbox(\n",
    "        \"Select source language:\",\n",
    "        [\"Auto-detect\"] + [lang.capitalize() for lang in LANGUAGES.values()]\n",
    "    )\n",
    "    \n",
    "    target_language = st.selectbox(\n",
    "        \"Select target language:\",\n",
    "        [lang.capitalize() for lang in LANGUAGES.values()]\n",
    "    )\n",
    "    \n",
    "    if st.button(\"Translate\"):\n",
    "        if text_to_translate.strip():\n",
    "            try:\n",
    "                # Determine source language code\n",
    "                src_code = (\n",
    "                    \"auto\"\n",
    "                    if source_language == \"Auto-detect\"\n",
    "                    else get_language_code(source_language)\n",
    "                )\n",
    "                dest_code = get_language_code(target_language)\n",
    "                \n",
    "                # Perform translation\n",
    "                translation = translator.translate(text_to_translate, src=src_code, dest=dest_code)\n",
    "                st.success(f\"**Translated Text ({target_language}):**\")\n",
    "                st.write(translation.text)\n",
    "                \n",
    "                # Add to history\n",
    "                st.session_state.history.append({\n",
    "                    \"source_text\": text_to_translate,\n",
    "                    \"translated_text\": translation.text,\n",
    "                    \"source_lang\": source_language,\n",
    "                    \"target_lang\": target_language\n",
    "                })\n",
    "            except Exception as e:\n",
    "                st.error(f\"Error: {e}\")\n",
    "        else:\n",
    "            st.warning(\"Please enter text to translate!\")\n",
    "\n",
    "# Speech-to-Text\n",
    "elif feature == \"Speech-to-Text\":\n",
    "    st.header(\"Speech-to-Text\")\n",
    "    st.markdown(\"Upload an audio file, and we will convert it to text.\")\n",
    "    \n",
    "    uploaded_file = st.file_uploader(\"Upload audio file (WAV format):\", type=[\"wav\"])\n",
    "    \n",
    "    if uploaded_file is not None:\n",
    "        recognizer = sr.Recognizer()\n",
    "        with sr.AudioFile(uploaded_file) as source:\n",
    "            audio = recognizer.record(source)\n",
    "        \n",
    "        try:\n",
    "            text = recognizer.recognize_google(audio)\n",
    "            st.success(\"Converted Text:\")\n",
    "            st.write(text)\n",
    "        except Exception as e:\n",
    "            st.error(f\"Error in speech recognition: {e}\")\n",
    "\n",
    "# Text-to-Speech\n",
    "elif feature == \"Text-to-Speech\":\n",
    "    st.header(\"Text-to-Speech\")\n",
    "    \n",
    "    text_to_convert = st.text_area(\"Enter text to convert to speech:\")\n",
    "    language = st.selectbox(\"Select language:\", [lang.capitalize() for lang in LANGUAGES.values()])\n",
    "    \n",
    "    if st.button(\"Convert to Speech\"):\n",
    "        if text_to_convert.strip():\n",
    "            try:\n",
    "                # Initialize the pyttsx3 engine\n",
    "                engine = pyttsx3.init()\n",
    "\n",
    "                # Set the properties for speed\n",
    "                rate = engine.getProperty('rate')  # Get the current speech rate\n",
    "                engine.setProperty('rate', rate )  # Multiply the rate by 5 for faster speech\n",
    "                \n",
    "                # Save the speech to a file\n",
    "                audio_file = \"output.mp3\"\n",
    "                engine.save_to_file(text_to_convert, audio_file)\n",
    "                engine.runAndWait()  # Run the speech engine\n",
    "\n",
    "                # Play Audio\n",
    "                with open(audio_file, \"rb\") as file:\n",
    "                    audio_bytes = file.read()\n",
    "                    b64 = base64.b64encode(audio_bytes).decode()\n",
    "                    href = f'<a href=\"data:audio/mp3;base64,{b64}\" download=\"translated_audio.mp3\">Download Audio</a>'\n",
    "                    st.markdown(href, unsafe_allow_html=True)\n",
    "                    st.audio(audio_bytes, format=\"audio/mp3\")\n",
    "                \n",
    "                # Clean up\n",
    "                os.remove(audio_file)\n",
    "            except Exception as e:\n",
    "                st.error(f\"Error in text-to-speech conversion: {e}\")\n",
    "        else:\n",
    "            st.warning(\"Please enter text to convert!\")\n",
    "\n",
    "\n",
    "# Translation History\n",
    "elif feature == \"Translation History\":\n",
    "    st.header(\"Translation History\")\n",
    "    \n",
    "    if st.session_state.history:\n",
    "        for i, entry in enumerate(st.session_state.history):\n",
    "            st.write(f\"**{i+1}. Source ({entry['source_lang']}):** {entry['source_text']}\")\n",
    "            st.write(f\"**Translated ({entry['target_lang']}):** {entry['translated_text']}\")\n",
    "            st.markdown(\"---\")\n",
    "        \n",
    "        if st.button(\"Clear History\"):\n",
    "            st.session_state.history = []\n",
    "            st.success(\"Translation history cleared!\")\n",
    "    else:\n",
    "        st.info(\"No translations yet!\")\n",
    "\n",
    "#Footer\n",
    "st.markdown(\n",
    "        \"\"\"\n",
    "        <style>\n",
    "        .bottom-right {\n",
    "            position: fixed;\n",
    "            bottom: 10px;\n",
    "            right: 15px;\n",
    "            font-size: 0.9em;\n",
    "            color: gray;\n",
    "        }\n",
    "        </style>\n",
    "        <div class=\"bottom-right\">\n",
    "            Made with ⚡ at 'The Hackers Playbook' ©. All rights reserved.\n",
    "        </div>\n",
    "        \"\"\",\n",
    "        unsafe_allow_html=True\n",
    "                )\n",
    "\n"
   ]
  },
  {
   "cell_type": "markdown",
   "metadata": {},
   "source": [
    "---\n",
    "\n",
    "# Thank You for visiting The Hackers Playbook! 🌐\n",
    "\n",
    "If you liked this research material;\n",
    "\n",
    "- [Subscribe to our newsletter.](https://thehackersplaybook.substack.com)\n",
    "\n",
    "- [Follow us on LinkedIn.](https://www.linkedin.com/company/the-hackers-playbook/)\n",
    "\n",
    "- [Leave a star on our GitHub.](https://www.github.com/thehackersplaybook)\n",
    "\n",
    "<div style=\"display:flex; align-items:center; padding: 50px;\">\n",
    "<p style=\"margin-right:10px;\">\n",
    "    <img height=\"200px\" style=\"width:auto;\" width=\"200px\" src=\"https://avatars.githubusercontent.com/u/192148546?s=400&u=95d76fbb02e6c09671d87c9155f17ca1e4ef8f21&v=4\"> \n",
    "</p>\n",
    "</div>\n"
   ]
  }
 ],
 "metadata": {
  "language_info": {
   "name": "python"
  }
 },
 "nbformat": 4,
 "nbformat_minor": 2
}
