{
 "cells": [
  {
   "cell_type": "markdown",
   "metadata": {},
   "source": [
    "# Professional Calculator App 🧮\n",
    "\n",
    "A sleek, user-friendly calculator app designed to perform everyday mathematical operations with precision and ease. Built using Streamlit, this app provides both basic and advanced functionalities to meet your computational needs.\n",
    "\n",
    "<div style=\"display:flex; align-items:center; padding: 50px;\">\n",
    "<p style=\"margin-right:10px;\">\n",
    "    <img height=\"200px\" style=\"width:auto;\" width=\"200px\" src=\"https://avatars.githubusercontent.com/u/192148546?s=400&u=95d76fbb02e6c09671d87c9155f17ca1e4ef8f21&v=4\"> \n",
    "</p>\n",
    "<p style=\"margin-right:10px;\">\n",
    "    <img height=\"200px\" style=\"width:auto;\" width=\"200px\" src=\"https://www.freeiconspng.com/thumbs/calculator-icon/calculator-icon-26.jpg\"> \n",
    "</p>\n",
    "\n",
    "</div>\n",
    "\n",
    "## Description\n",
    "- Perform basic operations: addition, subtraction, multiplication, division.\n",
    "\n",
    "- Advanced calculations: square root, power, logarithm, trigonometric functions, and factorial.\n",
    "\n",
    "- Interactive and easy-to-use interface with tabbed navigation for calculations and history.\n",
    "\n",
    "- View and manage calculation history with an option to delete it.\n",
    "\n",
    "- Fully customizable for educational or professional purposes."
   ]
  },
  {
   "cell_type": "markdown",
   "metadata": {},
   "source": [
    "## Steps to Use the Calculator App\n",
    "- Launch the application by running streamlit run your_app_name.py in your terminal with the correct path to your app file.\n",
    "- The app interface will open in your browser with the following features:\n",
    "##### Calculator:\n",
    "- Perform basic arithmetic operations: Addition, Subtraction, Multiplication, Division.\n",
    "- Execute advanced calculations: Square Root, Power, Factorial, Logarithm, and Trigonometric functions (Sine, Cosine, Tangent).\n",
    "- Interactive input fields for numbers and a dropdown to select the desired operation.\n",
    "- Instant results displayed with a clear and elegant layout.\n",
    "##### History:\n",
    "- View the history of all calculations performed during the session.\n",
    "- History entries include the operation, input values, and result.\n",
    "- Option to delete the history if required."
   ]
  },
  {
   "cell_type": "markdown",
   "metadata": {},
   "source": [
    "## Step 1: Install Requirements\n",
    "\n",
    "To run this application, ensure you have Python installed on your system. Then, follow these steps:\n",
    "\n",
    "1. Create a virtual environment (optional but recommended):\n",
    "\n",
    "- Install all the requirements that are specified in the `requirements.txt` file in the root folder. \n",
    "- Make sure you set up a virtual environment before installing requirements. \n",
    "- To setup a virtual environment, run `python3 -m venv env`. \n",
    "- To activate the env on Linux / MacOS, run `. env/bin/activate` (for Windows the command is different, figure it out)."
   ]
  },
  {
   "cell_type": "code",
   "execution_count": null,
   "metadata": {},
   "outputs": [],
   "source": [
    "import os\n",
    "os.system('pip install -r requirements.txt')"
   ]
  },
  {
   "cell_type": "markdown",
   "metadata": {},
   "source": [
    "## Step 2: Install Streamlit and Math Module\n",
    "\n",
    "- Install Streamlit using `pip install streamlit` and import it in your file.\n",
    "- Import the `math` module using `import math`.\n",
    "- Configure the `Title`, `Layout` and `Icon` for the page."
   ]
  },
  {
   "cell_type": "markdown",
   "metadata": {},
   "source": [
    "## Step 3: Define the Calculator Function\n",
    "\n",
    "- Create a function called calculate that takes in the operation, and two numbers (if applicable).\n",
    "- The function should take in the operation, and two numbers (if applicable).\n",
    "- The function should return the result of the operation and the sign.\n",
    "- If the operation is not valid, return the error message.\n",
    "\n",
    "\n",
    "\n"
   ]
  },
  {
   "cell_type": "markdown",
   "metadata": {},
   "source": [
    "## Step 4: Add a Title and Description\n",
    "\n",
    "Set the main title of the app as `Calculator app` and add a markdown text below the title that describes the app as a basic calculator app."
   ]
  },
  {
   "cell_type": "markdown",
   "metadata": {},
   "source": [
    "## Step 5: Add Tabs for Calculator and History\n",
    "\n",
    "Create `tabs` for calculator functionality and calculation history.\n",
    "\n"
   ]
  },
  {
   "cell_type": "markdown",
   "metadata": {},
   "source": [
    "## Step 6: Build the Calculator Interface\n",
    "\n",
    "Allow users to select `operations` and `input numbers` to perform calculations.\n",
    "\n"
   ]
  },
  {
   "cell_type": "markdown",
   "metadata": {},
   "source": [
    "## Step 7: Display Calculation History\n",
    "\n",
    "Show the `history` of calculations in a separate tab.\n"
   ]
  },
  {
   "cell_type": "markdown",
   "metadata": {},
   "source": [
    "## Step 8: Add Footer\n",
    "\n",
    "Add a `footer` to the app for branding or credits.\n"
   ]
  },
  {
   "cell_type": "code",
   "execution_count": null,
   "metadata": {},
   "outputs": [],
   "source": [
    "st.markdown(\n",
    "        \"\"\"\n",
    "        <style>\n",
    "        .bottom-right {\n",
    "            position: fixed;\n",
    "            bottom: 10px;\n",
    "            right: 15px;\n",
    "            font-size: 0.9em;\n",
    "            color: gray;\n",
    "        }\n",
    "        </style>\n",
    "        <div class=\"bottom-right\">\n",
    "            your-brading-name or credits\n",
    "        </div>\n",
    "        \"\"\",\n",
    "        unsafe_allow_html=True\n",
    "                )\n"
   ]
  },
  {
   "cell_type": "markdown",
   "metadata": {},
   "source": [
    "## Step 9: Launch Application:\n",
    "\n",
    "Run the application by executing `streamlit run your_file_name.py` in your terminal with the correct path to the app file.\n"
   ]
  },
  {
   "cell_type": "code",
   "execution_count": null,
   "metadata": {},
   "outputs": [],
   "source": [
    "import os\n",
    "\n",
    "def run_command(cmd):\n",
    "    os.system(cmd)\n",
    "\n",
    "run_command(\"streamlit run streamlit/calculator.py\")"
   ]
  },
  {
   "cell_type": "markdown",
   "metadata": {},
   "source": [
    "---\n",
    "\n",
    "# Thank You for visiting The Hackers Playbook! 🌐\n",
    "\n",
    "If you liked this research material;\n",
    "\n",
    "- [Subscribe to our newsletter.](https://thehackersplaybook.substack.com)\n",
    "\n",
    "- [Follow us on LinkedIn.](https://www.linkedin.com/company/the-hackers-playbook/)\n",
    "\n",
    "- [Leave a star on our GitHub.](https://www.github.com/thehackersplaybook)\n",
    "\n",
    "<div style=\"display:flex; align-items:center; padding: 50px;\">\n",
    "<p style=\"margin-right:10px;\">\n",
    "    <img height=\"200px\" style=\"width:auto;\" width=\"200px\" src=\"https://avatars.githubusercontent.com/u/192148546?s=400&u=95d76fbb02e6c09671d87c9155f17ca1e4ef8f21&v=4\"> \n",
    "</p>\n",
    "</div>\n"
   ]
  }
 ],
 "metadata": {
  "kernelspec": {
   "display_name": "Python 3",
   "language": "python",
   "name": "python3"
  },
  "language_info": {
   "codemirror_mode": {
    "name": "ipython",
    "version": 3
   },
   "file_extension": ".py",
   "mimetype": "text/x-python",
   "name": "python",
   "nbconvert_exporter": "python",
   "pygments_lexer": "ipython3",
   "version": "3.13.1"
  }
 },
 "nbformat": 4,
 "nbformat_minor": 2
}
