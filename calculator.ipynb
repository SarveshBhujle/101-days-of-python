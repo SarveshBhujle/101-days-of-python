{
 "cells": [
  {
   "cell_type": "markdown",
   "metadata": {},
   "source": [
    "# Professional Calculator App 🧮\n",
    "\n",
    "A sleek, user-friendly calculator app designed to perform everyday mathematical operations with precision and ease. Built using Streamlit, this app provides both basic and advanced functionalities to meet your computational needs.\n",
    "\n",
    "## Description\n",
    "- Perform basic operations: addition, subtraction, multiplication, division.\n",
    "\n",
    "- Advanced calculations: square root, power, logarithm, trigonometric functions, and factorial.\n",
    "\n",
    "- Interactive and easy-to-use interface with tabbed navigation for calculations and history.\n",
    "\n",
    "- View and manage calculation history with an option to delete it.\n",
    "\n",
    "- Fully customizable for educational or professional purposes."
   ]
  },
  {
   "cell_type": "markdown",
   "metadata": {},
   "source": [
    "## Steps to Use the Calculator App\n",
    "- Launch the application by running streamlit run your_app_name.py.\n",
    "- The app interface will open in your browser with the following features:\n",
    "##### Calculator:\n",
    "- Perform basic arithmetic operations: Addition, Subtraction, Multiplication, Division.\n",
    "- Execute advanced calculations: Square Root, Power, Factorial, Logarithm, and Trigonometric functions (Sine, Cosine, Tangent).\n",
    "- Interactive input fields for numbers and a dropdown to select the desired operation.\n",
    "- Instant results displayed with a clear and elegant layout.\n",
    "##### History:\n",
    "- View the history of all calculations performed during the session.\n",
    "- History entries include the operation, input values, and result.\n",
    "- Option to delete the history if required."
   ]
  },
  {
   "cell_type": "markdown",
   "metadata": {},
   "source": [
    "## Step 1: Install Requirements\n",
    "\n",
    "To run this application, ensure you have Python installed on your system. Then, follow these steps:\n",
    "\n",
    "1. Create a virtual environment (optional but recommended):\n",
    "\n",
    "- Install all the requirements that are specified in the `requirements.txt` file in the root folder. \n",
    "- Make sure you set up a virtual environment before installing requirements. \n",
    "- To setup a virtual environment, run `python3 -m venv env`. \n",
    "- To activate the env on Linux / MacOS, run `. env/bin/activate` (for Windows the command is different, figure it out)."
   ]
  },
  {
   "cell_type": "code",
   "execution_count": null,
   "metadata": {},
   "outputs": [],
   "source": [
    "import os\n",
    "os.system('pip install -r requirements.txt')"
   ]
  },
  {
   "cell_type": "markdown",
   "metadata": {},
   "source": [
    "## Step 2: Install Streamlit and Math Module\n",
    "\n",
    "- Install Streamlit using `pip install streamlit` and import it in your file.\n",
    "- Import the `math` module using `import math`.\n",
    "- Configure the `Title`, `Layout` and `Icon` for the page."
   ]
  },
  {
   "cell_type": "code",
   "execution_count": null,
   "metadata": {},
   "outputs": [],
   "source": [
    "import streamlit as st \n",
    "import math\n",
    "st.set_page_config(page_title= \"Calculator App\", layout=\"centered\",page_icon=\"🧮\")"
   ]
  },
  {
   "cell_type": "markdown",
   "metadata": {},
   "source": [
    "## Step 3: Define the Calculator Function\n",
    "\n",
    "- Create a function called calculate that takes in the operation, and two numbers (if applicable).\n",
    "- The function should take in the operation, and two numbers (if applicable).\n",
    "- The function should return the result of the operation and the sign.\n",
    "- If the operation is not valid, return the error message.\n",
    "\n",
    "\n",
    "\n"
   ]
  },
  {
   "cell_type": "code",
   "execution_count": null,
   "metadata": {},
   "outputs": [],
   "source": [
    "def calculate(operation, num1, num2=None):\n",
    "    try:\n",
    "        if operation == 'Addition':\n",
    "            sign = '+'\n",
    "            return num1 + num2, sign\n",
    "        elif operation == 'Subtraction':\n",
    "            sign = '-'\n",
    "            return num1 - num2, sign\n",
    "        elif operation == 'Multiplication':\n",
    "            sign = '*'\n",
    "            return num1 * num2, sign\n",
    "        elif operation == 'Division':\n",
    "            sign = '/'\n",
    "            return num1 / num2 if num2 != 0 else 'Error: Division by zero', sign\n",
    "        elif operation == 'Square Root':\n",
    "            sign = '√'\n",
    "            return math.sqrt(num1), sign\n",
    "        elif operation == 'Power':\n",
    "            sign = '^'\n",
    "            return math.pow(num1, num2), sign\n",
    "        elif operation == 'Logarithm':\n",
    "            sign = 'log'\n",
    "            return math.log(num1, num2) if num1 > 0 and num2 > 0 else 'Error: Invalid input', sign\n",
    "        elif operation == 'Sine':\n",
    "            sign = 'sin'\n",
    "            return math.sin(math.radians(num1)), sign\n",
    "        elif operation == 'Cosine':\n",
    "            sign = 'cos'\n",
    "            return math.cos(math.radians(num1)), sign\n",
    "        elif operation == 'Tangent':\n",
    "            sign = 'tan'\n",
    "            return math.tan(math.radians(num1)), sign\n",
    "        elif operation == 'Factorial':\n",
    "            sign = '!'\n",
    "            return math.factorial(num1) if num1 >= 0 and num1 == int(num1) else 'Error: Invalid input', sign\n",
    "    except Exception as e:\n",
    "        return f'Error: {e}', None\n"
   ]
  },
  {
   "cell_type": "markdown",
   "metadata": {},
   "source": [
    "## Step 4: Add a Title and Description\n",
    "\n",
    "This sets the main title of the app as `Calculator app` and adds a markdown text below the title that describes the app as a basic calculator app."
   ]
  },
  {
   "cell_type": "code",
   "execution_count": null,
   "metadata": {},
   "outputs": [],
   "source": [
    "st.title(\"Professional Calculator\")\n",
    "st.markdown(\"A sleek, user-friendly calculator app designed to perform everyday mathematical operations with precision and ease.\")\n"
   ]
  },
  {
   "cell_type": "markdown",
   "metadata": {},
   "source": [
    "## Step 5: Add Tabs for Calculator and History\n",
    "\n",
    "Create `tabs` for calculator functionality and calculation history.\n",
    "\n"
   ]
  },
  {
   "cell_type": "code",
   "execution_count": null,
   "metadata": {},
   "outputs": [],
   "source": [
    "tab1, tab2 = st.tabs([\"Calculator\", \"History\"])\n",
    "if 'history' not in st.session_state:\n",
    "    st.session_state.history = []\n"
   ]
  },
  {
   "cell_type": "markdown",
   "metadata": {},
   "source": [
    "## Step 6: Build the Calculator Interface\n",
    "\n",
    "Allow users to select `operations` and `input numbers`.\n",
    "\n"
   ]
  },
  {
   "cell_type": "code",
   "execution_count": null,
   "metadata": {},
   "outputs": [],
   "source": [
    "with tab1:\n",
    "    st.header(\"Calculator\")\n",
    "    operation = st.selectbox(\n",
    "        \"Select Operation\",\n",
    "        [\n",
    "            \"Addition\", \"Subtraction\", \"Multiplication\", \"Division\",\n",
    "            \"Square Root\", \"Power\", \"Factorial\", \"Logarithm\", \"Sine\", \"Cosine\", \"Tangent\"\n",
    "        ]\n",
    "    )\n",
    "    if operation in ['Square Root', 'Sine', 'Cosine', 'Tangent', 'Factorial']:\n",
    "        num1 = st.number_input(\"Enter the number\", value=0, key=\"single_num\")\n",
    "        num2 = None\n",
    "    else:\n",
    "        num1 = st.number_input(\"Enter the first number\", value=0, key=\"num_1\")\n",
    "        num2 = st.number_input(\"Enter the second number\", value=0, key=\"num_2\")\n",
    "\n",
    "    if st.button(\"Calculate\", key=\"basic_btn\"):\n",
    "        result, sign = calculate(operation, num1, num2)\n",
    "        if isinstance(result, str) and result.startswith(\"Error\"):\n",
    "            st.error(result)\n",
    "        else:\n",
    "            if num2 is not None:\n",
    "                st.success(f\"Result: {result}\")\n",
    "                st.session_state.history.append(f\"{operation}: {num1} {sign} {num2} = {result}\")\n",
    "            else:\n",
    "                st.success(f\"Result: {result}\")\n",
    "                st.session_state.history.append(f\"{operation}: {sign}({num1}) = {result}\")\n"
   ]
  },
  {
   "cell_type": "markdown",
   "metadata": {},
   "source": [
    "## Step 7: Display Calculation History\n",
    "\n",
    "Show the `history` of calculations in a separate tab.\n"
   ]
  },
  {
   "cell_type": "code",
   "execution_count": null,
   "metadata": {},
   "outputs": [],
   "source": [
    "with tab2:\n",
    "    st.header(\"History\")\n",
    "    if st.session_state.history:\n",
    "        for entry in st.session_state.history:\n",
    "            st.write(entry)\n",
    "        if st.button(\"Delete History\", key=\"del_btn\"):\n",
    "            st.session_state.history = []\n",
    "            st.success(\"History deleted\")\n",
    "    else:\n",
    "        st.info(\"No calculations performed yet\")\n"
   ]
  },
  {
   "cell_type": "markdown",
   "metadata": {},
   "source": [
    "## Step 8: Add Footer\n",
    "\n",
    "Add a `footer` to the calculator app for branding or credits.\n"
   ]
  },
  {
   "cell_type": "code",
   "execution_count": null,
   "metadata": {},
   "outputs": [],
   "source": [
    "st.markdown(\n",
    "    \"\"\"\n",
    "    <style>\n",
    "    .bottom-right {\n",
    "        position: fixed;\n",
    "        bottom: 10px;\n",
    "        right: 15px;\n",
    "        font-size: 0.9em;\n",
    "        color: gray;\n",
    "    }\n",
    "    </style>\n",
    "    <div class=\"bottom-right\">\n",
    "        your-brading-name or credits\n",
    "    </div>\n",
    "    \"\"\",\n",
    "    unsafe_allow_html=True\n",
    ")\n"
   ]
  },
  {
   "cell_type": "markdown",
   "metadata": {},
   "source": [
    "## Step 9: Run the Application\n",
    "\n",
    "Save the code as a `.py` file and run it with Streamlit.\n"
   ]
  },
  {
   "cell_type": "code",
   "execution_count": null,
   "metadata": {},
   "outputs": [],
   "source": [
    "streamlit run your_app_name.py"
   ]
  },
  {
   "cell_type": "markdown",
   "metadata": {},
   "source": [
    "## Here is the complete code for `Calculator App`\n",
    "\n",
    "```python\n",
    "import streamlit as st\n",
    "import math\n",
    "\n",
    "st.set_page_config(page_title=\"Profesional Calculator\", layout=\"centered\", page_icon=\"🧮\")\n",
    "\n",
    "def calculate(operation, num1 ,num2=None):\n",
    "    try:\n",
    "        if operation == 'Addition':\n",
    "            sign = '+'\n",
    "            return num1+ num2, sign\n",
    "        elif operation == 'Subtraction':\n",
    "            sign = '-'\n",
    "            return num1 - num2, sign\n",
    "        elif operation == 'Multiplication':\n",
    "            sign= '*'\n",
    "            return num1 * num2, sign\n",
    "        elif operation == 'Division':\n",
    "            sign = \"/\"\n",
    "            return num1 / num2 if num2 !=0 else 'Error: Division by zero', sign\n",
    "        elif operation == 'Square Root':\n",
    "            sign = '√'\n",
    "            return math.sqrt(num1),sign\n",
    "        elif operation == 'Power':\n",
    "             sign = '^'\n",
    "             return math.pow(num1, num2), sign\n",
    "        elif operation == 'Logarithm':\n",
    "             sign = 'log'\n",
    "             return math.log(num1, num2) if num1 > 0 and num2 > 0 else 'Error: Invalid input', sign\n",
    "        elif operation == 'Sine':\n",
    "             sign = 'sin'\n",
    "             return math.sin(math.radians(num1)), sign\n",
    "        elif operation == 'Cosine':\n",
    "             sign = 'cos'\n",
    "             return math.cos(math.radians(num1)), sign\n",
    "        elif operation == 'Tangent':\n",
    "             sign = 'tan'\n",
    "             return math.tan(math.radians(num1)), sign\n",
    "        elif operation == 'Factorial':\n",
    "             sign = '!'\n",
    "             return math.factorial(num1) if num1 >= 0 and num1 == int(num1) else 'Error: Invalid input', sign\n",
    "    except Exception as e:\n",
    "            return f'Error: {e}'\n",
    "    \n",
    "    st.title(\"Professional Calculator\")\n",
    "    st.markdown(\"A sleek, user-friendly calculator app designed to perform everyday mathematical operations with precision and ease.\")\n",
    "\n",
    "tab1, tab2 = st.tabs([\"Calculator\", \"History\"])\n",
    "\n",
    "if 'history' not in st.session_state:\n",
    "         st.session_state.history = []\n",
    "         \n",
    "\n",
    "with tab1:\n",
    "     st.header(\"Calculator\")\n",
    "     operation = st.selectbox(\n",
    "        \"Select Operation\",\n",
    "        [\n",
    "            \"Addition\", \"Subtraction\", \"Multiplication\", \"Division\",\n",
    "            \"Square Root\", \"Power\", \"Factorial\", \"Logarithm\", \"Sine\", \"Cosine\", \"Tangent\"\n",
    "        ]\n",
    "    )\n",
    "     if operation in ['Square Root', 'Sine', 'Cosine', 'Tangent', 'Factorial']:\n",
    "          num1 = st.number_input(\"Enter the number\", value=0, key=\"single_num\")\n",
    "          num2 = None\n",
    "     else:\n",
    "          num1 = st.number_input(\"Enter the first number\", value=0, key=\"num_1\")\n",
    "          num2=  st.number_input(\"Enter the second number\", value=0, key=\"num_2\")\n",
    "     if(st.button(\"Calculate\",key=\"basic_btn\")):\n",
    "          result, sign= calculate(operation, num1, num2)\n",
    "          if isinstance(result, str) and result.startswith(\"Error\"):\n",
    "            st.error(result)\n",
    "          else:\n",
    "            if num2 is not None:\n",
    "                st.success(f\"Result: {result}\")\n",
    "                st.session_state.history.append(f\"{operation} : {num1} {sign} {num2} = {result}\")\n",
    "            else:\n",
    "                st.success(f\"Result: {result}\")\n",
    "                st.session_state.history.append(f\"{operation} : {sign}({num1}) = {result}\")\n",
    "                 \n",
    "\n",
    "with tab2:\n",
    "     st.header(\"History\")\n",
    "     if st.session_state.history:\n",
    "          for entry in st.session_state.history:\n",
    "               st.write(entry)\n",
    "          if (st.button(\"Delete History\", key=\"del_btn\")):\n",
    "               st.session_state.history = []\n",
    "               st.success(\"History deleted\")\n",
    "     else:\n",
    "          st.info(\"No calculations performed yet\")\n",
    "st.markdown(\n",
    "        \"\"\"\n",
    "        <style>\n",
    "        .bottom-right {\n",
    "            position: fixed;\n",
    "            bottom: 10px;\n",
    "            right: 15px;\n",
    "            font-size: 0.9em;\n",
    "            color: gray;\n",
    "        }\n",
    "        </style>\n",
    "        <div class=\"bottom-right\">\n",
    "           your-branding-name or credits\n",
    "        </div>\n",
    "        \"\"\",\n",
    "        unsafe_allow_html=True\n",
    "                )"
   ]
  }
 ],
 "metadata": {
  "kernelspec": {
   "display_name": "Python 3",
   "language": "python",
   "name": "python3"
  },
  "language_info": {
   "codemirror_mode": {
    "name": "ipython",
    "version": 3
   },
   "file_extension": ".py",
   "mimetype": "text/x-python",
   "name": "python",
   "nbconvert_exporter": "python",
   "pygments_lexer": "ipython3",
   "version": "3.10.10"
  }
 },
 "nbformat": 4,
 "nbformat_minor": 2
}
