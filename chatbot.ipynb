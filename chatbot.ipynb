{
 "cells": [
  {
   "cell_type": "markdown",
   "metadata": {},
   "source": [
    "# AI Chatbot Assistant\n",
    "A smart AI assistant designed to assist with a wide range of tasks, from answering questions to providing recommendations, offering `interactive` and `engaging conversations`.\n",
    "\n",
    "<div style=\"display:flex; align-items:center; padding: 50px;\">\n",
    "<p style=\"margin-right:10px;\">\n",
    "    <img height=\"200px\" style=\"width:auto;\" width=\"200px\" src=\"https://avatars.githubusercontent.com/u/192148546?s=400&u=95d76fbb02e6c09671d87c9155f17ca1e4ef8f21&v=4\"> \n",
    "</p>\n",
    "<p style=\"margin-right:10px;\">\n",
    "    <img height=\"200px\" style=\"width:auto;\" width=\"200px\" src=\"https://www.shutterstock.com/image-vector/chat-bot-icon-design-robot-600nw-2476207303.jpg\"> \n",
    "</p>\n",
    "\n",
    "</div>\n",
    "\n",
    "## Description\n",
    "\n",
    "- `Real-Time Conversations`: Engage with an AI that responds instantly to your queries.\n",
    "\n",
    "- `Task Assistance`: Get help with a variety of tasks, from information gathering to decision-making.\n",
    "\n",
    "- `Intelligent Responses`: The AI adapts to your input and provides contextually relevant answers.\n",
    "\n",
    "- `User-Friendly Interface`: Simple and clean design for easy interaction.\n",
    "\n",
    "- `Customizable Settings`: Choose from different AI models for tailored responses.\n",
    "\n",
    "- `Conversation History`: Track past interactions for better continuity and reference."
   ]
  },
  {
   "cell_type": "markdown",
   "metadata": {},
   "source": [
    "## Steps to Use the AI Chatbot Assistant:\n",
    "\n",
    "- Launch the application by running streamlit run your_app_name.py in your terminal with the correct path to your app file.\n",
    "\n",
    "- The app interface will open in your browser with the following features:\n"
   ]
  },
  {
   "cell_type": "markdown",
   "metadata": {},
   "source": [
    "## Step 1: Install Requirements\n",
    "\n",
    "To run this application, ensure you have Python installed on your system. Then, follow these steps:\n",
    "\n",
    "1. Create a virtual environment (optional but recommended):\n",
    "\n",
    "- Install all the requirements that are specified in the `requirements.txt` file in the root folder. \n",
    "\n",
    "- Make sure you set up a virtual environment before installing requirements. \n",
    "\n",
    "- To setup a virtual environment, run `python3 -m venv env`. \n",
    "\n",
    "- To activate the env on Linux / MacOS, run `. env/bin/activate` (for Windows the command is different, figure it out)."
   ]
  },
  {
   "cell_type": "code",
   "execution_count": null,
   "metadata": {},
   "outputs": [],
   "source": [
    "import os\n",
    "os.system('pip install -r requirements.txt')"
   ]
  },
  {
   "cell_type": "markdown",
   "metadata": {},
   "source": [
    "## Step 2: Import Libraries\n",
    "These imports bring in the necessary libraries for the Chatbot Assistant:\n",
    "\n",
    "- `streamlit` for creating the interactive web interface.\n",
    "\n",
    "- `openai` for interacting with OpenAI's API to generate chatbot responses.\n",
    "\n",
    "- `os` for handling environment variables, including the OpenAI API key.\n",
    "\n",
    "- `dotenv` for securely loading environment variables from a .env file."
   ]
  },
  {
   "cell_type": "markdown",
   "metadata": {},
   "source": [
    "## Step 3: Load environment variables\n",
    "\n",
    "Load the environment variables from the `.env` file into the Python environment. This file contains the API key for OpenAI."
   ]
  },
  {
   "cell_type": "markdown",
   "metadata": {},
   "source": [
    "## Step 4: Page Configuration\n",
    "\n",
    "Set up the Streamlit page configuration, including:\n",
    "\n",
    "- The page title.\n",
    "- The layout (wide to make use of the space).\n",
    "- A page icon to represent the app.\n",
    "\n",
    "\n"
   ]
  },
  {
   "cell_type": "markdown",
   "metadata": {},
   "source": [
    "## Step 5: Fetching the OpenAI API Key\n",
    "\n",
    "Fetch  the OpenAI API key from the environment variable `OPENAI_API_KEY`. This is a secret key that allows us to access the OpenAI API."
   ]
  },
  {
   "cell_type": "markdown",
   "metadata": {},
   "source": [
    "## Step 6: Add a Title and Description\n",
    "\n",
    "Set the main title of the app as `AI Chatbot` and add a markdown text below the title that describes the app as a language translator app. This helps users understand what the app does and how it works."
   ]
  },
  {
   "cell_type": "markdown",
   "metadata": {},
   "source": [
    "## Step 7: Adding Sidebar Settings for Model Selection\n",
    "\n",
    "This adds a sidebar to the app that allows the user to select the model to use for the chatbot.\n",
    "- `st.sidebar.header:`\n",
    "Creates a header titled \"Settings\" in the sidebar.\n",
    "\n",
    "- `st.sidebar.selectbox:`\n",
    "Adds a dropdown menu in the sidebar to choose the OpenAI model (gpt-4 or gpt-3.5-turbo).\n"
   ]
  },
  {
   "cell_type": "markdown",
   "metadata": {},
   "source": [
    "## Step 8: Input Field for User Message\n",
    "\n",
    "This is where the user will input their message. The `st.text_input` function is used to create a text input field with a placeholder message.\n"
   ]
  },
  {
   "cell_type": "markdown",
   "metadata": {},
   "source": [
    "## Step 9: Initializing the Chat Session\n",
    "\n",
    "`Initialize the chat session` if it is not already initialized. It also sets the `initial message to the system message.`\n",
    "\n"
   ]
  },
  {
   "cell_type": "markdown",
   "metadata": {},
   "source": [
    "## Step 10: Sending User Messages\n",
    "\n",
    "Add a section that handles the `user input` and sends the message to the OpenAI API."
   ]
  },
  {
   "cell_type": "markdown",
   "metadata": {},
   "source": [
    "## Step 11: Fetching the OpenAI API Response\n",
    "\n",
    "Add a code that fetches the OpenAI API response and displays the assistant's reply in the chat interface.\n"
   ]
  },
  {
   "cell_type": "markdown",
   "metadata": {},
   "source": [
    "## Step 12: Displaying Chat Messages\n",
    "\n",
    "This step renders the conversation history by displaying both user and assistant messages in a clean, formatted manner using Markdown. Each message is labeled appropriately as `\"You\" for the user` and `\"Bot\" for the assistant.`\n"
   ]
  },
  {
   "cell_type": "markdown",
   "metadata": {},
   "source": [
    "## Step 13: Clearing the Chat\n",
    "\n",
    "This step provides a \"Clear Chat\" button that resets the conversation history, allowing the user to start a new chat session with the assistant.\n"
   ]
  },
  {
   "cell_type": "markdown",
   "metadata": {},
   "source": [
    "## Step 14: Add Footer\n",
    "\n",
    "Add a `footer` to the app for branding or credits.\n"
   ]
  },
  {
   "cell_type": "code",
   "execution_count": null,
   "metadata": {},
   "outputs": [],
   "source": [
    "st.markdown(\n",
    "        \"\"\"\n",
    "        <style>\n",
    "        .bottom-right {\n",
    "            position: fixed;\n",
    "            bottom: 10px;\n",
    "            right: 15px;\n",
    "            font-size: 0.9em;\n",
    "            color: gray;\n",
    "        }\n",
    "        </style>\n",
    "        <div class=\"bottom-right\">\n",
    "            your-brading-name or credits\n",
    "        </div>\n",
    "        \"\"\",\n",
    "        unsafe_allow_html=True\n",
    "                )\n"
   ]
  },
  {
   "cell_type": "markdown",
   "metadata": {},
   "source": [
    "## Step 15: Launch Application:\n",
    "\n",
    "Run the application by executing `streamlit run your_file_name.py` in your terminal with the correct path to the app file.\n"
   ]
  },
  {
   "cell_type": "code",
   "execution_count": null,
   "metadata": {},
   "outputs": [],
   "source": [
    "import os\n",
    "\n",
    "def run_command(cmd):\n",
    "    os.system(cmd)\n",
    "\n",
    "run_command(\"streamlit run streamlit/chatbot.py\")"
   ]
  },
  {
   "cell_type": "markdown",
   "metadata": {},
   "source": [
    "---\n",
    "\n",
    "# Thank You for visiting The Hackers Playbook! 🌐\n",
    "\n",
    "If you liked this research material;\n",
    "\n",
    "- [Subscribe to our newsletter.](https://thehackersplaybook.substack.com)\n",
    "\n",
    "- [Follow us on LinkedIn.](https://www.linkedin.com/company/the-hackers-playbook/)\n",
    "\n",
    "- [Leave a star on our GitHub.](https://www.github.com/thehackersplaybook)\n",
    "\n",
    "<div style=\"display:flex; align-items:center; padding: 50px;\">\n",
    "<p style=\"margin-right:10px;\">\n",
    "    <img height=\"200px\" style=\"width:auto;\" width=\"200px\" src=\"https://avatars.githubusercontent.com/u/192148546?s=400&u=95d76fbb02e6c09671d87c9155f17ca1e4ef8f21&v=4\"> \n",
    "</p>\n",
    "</div>\n"
   ]
  }
 ],
 "metadata": {
  "kernelspec": {
   "display_name": "Python 3",
   "language": "python",
   "name": "python3"
  },
  "language_info": {
   "codemirror_mode": {
    "name": "ipython",
    "version": 3
   },
   "file_extension": ".py",
   "mimetype": "text/x-python",
   "name": "python",
   "nbconvert_exporter": "python",
   "pygments_lexer": "ipython3",
   "version": "3.10.10"
  }
 },
 "nbformat": 4,
 "nbformat_minor": 2
}
