{
 "cells": [
  {
   "cell_type": "markdown",
   "metadata": {},
   "source": [
    "# Practical Reverse Engineering: Super Basics ⏮️ (WIP)\n",
    "\n",
    "> 🚨 Disclaimer: This is an educational and research project to demonstrate the uses of reverse engineering.\n",
    "\n",
    "In this notebook, we'll cover some very basic concepts of practical reverse engineering. I say \"practical\" because my knowledge, intuition and understanding of reverse engineering is innate. I didn't study it from books, nor did anyone teach it to me. I learnt it entirely by myself. So it's fair to call this demonstrative research project \"practical reverse engineering\".\n",
    "\n",
    "There aren't a lot of practical reverse engineering courses out there, so let's learn by doing! ⚡️\n"
   ]
  },
  {
   "cell_type": "code",
   "execution_count": 1,
   "metadata": {},
   "outputs": [
    {
     "name": "stdout",
     "output_type": "stream",
     "text": [
      "Hello, World!\n",
      "Let the reverse engineering begin..\n"
     ]
    }
   ],
   "source": [
    "print(\"Hello, World!\")\n",
    "print(\"Let the reverse engineering begin..\")"
   ]
  }
 ],
 "metadata": {
  "kernelspec": {
   "display_name": ".venv",
   "language": "python",
   "name": "python3"
  },
  "language_info": {
   "codemirror_mode": {
    "name": "ipython",
    "version": 3
   },
   "file_extension": ".py",
   "mimetype": "text/x-python",
   "name": "python",
   "nbconvert_exporter": "python",
   "pygments_lexer": "ipython3",
   "version": "3.12.4"
  }
 },
 "nbformat": 4,
 "nbformat_minor": 2
}
