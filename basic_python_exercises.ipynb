{
 "cells": [
  {
   "cell_type": "markdown",
   "metadata": {},
   "source": [
    "# Simple Arithmetic Calculator\n",
    "**Author**: [Shantanu Borkar](www.linkedin.com/in/shantanubkr)\n",
    "\n",
    "**Reviewer**: [Sarvesh Bhujle](https://www.linkedin.com/in/sarvesh-bhujle-78701231b/)\n",
    "\n",
    "<div style=\"display:flex; align-items:center; padding: 50px;\">\n",
    "<p style=\"margin-right:10px;\">\n",
    "    <img height=\"200px\" style=\"width:auto;\" width=\"200px\" src=\"https://avatars.githubusercontent.com/u/192148546?s=400&u=95d76fbb02e6c09671d87c9155f17ca1e4ef8f21&v=4\"> \n",
    "</p>\n",
    "<p style=\"margin-right:10px;\">\n",
    "    <img height=\"200px\" style=\"width:auto;\" width=\"200px\" src=\"https://media.istockphoto.com/id/1139838722/photo/math-concept-with-mathematical-math-symbols.jpg?s=612x612&w=0&k=20&c=kxAPm576jq_URXhhB4ejkqQ-GuVY_u8GCWuqxa-IcEo=\"> \n",
    "</p>\n",
    "</div>\n",
    "\n",
    "## Objectives \n",
    "\n",
    "- Provide useful examples for beginner Python programmers to learn basic Python concepts like data types, loops, functions.\n",
    "\n",
    "- Get started with Python programming by writing small python programs (Learn to practice)\n",
    "\n",
    "\n",
    "\n",
    "---\n"
   ]
  },
  {
   "cell_type": "markdown",
   "metadata": {},
   "source": [
    "## Step 1: Basic Arithmetic operations\n",
    "\n",
    "1. **Addition Function:**\n",
    "   This function takes two numbers as input and returns their sum.\n",
    "\n",
    "2. **Subtraction Function**: \n",
    "    This function takes two numbers as input and returns their difference.   \n",
    "\n",
    "3. **Multiplication Function**: \n",
    "    This function takes two numbers as input and returns their product.\n",
    "\n",
    "4. **Division Function**:\n",
    "    This function takes two numbers as input and returns their quotient.\n"
   ]
  },
  {
   "cell_type": "code",
   "execution_count": null,
   "metadata": {},
   "outputs": [],
   "source": [
    "def add_numbers(a,b):\n",
    "    return a+b\n",
    "\n",
    "def subtract_numbers(a,b):\n",
    "    return a-b\n",
    "\n",
    "def multiply_numbers(a,b):\n",
    "    return a*b    \n",
    "\n",
    "def division_numbers(a,b):\n",
    "    return a/b    \n",
    "    "
   ]
  },
  {
   "cell_type": "markdown",
   "metadata": {},
   "source": [
    "## Step 2: Testing for the above given arithmetic operations\n",
    "\n",
    "This test now runs the above functions by assigning values to the variables ( a and b ) and prints the result"
   ]
  },
  {
   "cell_type": "code",
   "execution_count": null,
   "metadata": {},
   "outputs": [],
   "source": [
    "a = 40\n",
    "b = 50\n",
    "result = add_numbers(a,b)\n",
    "print(result)"
   ]
  },
  {
   "cell_type": "code",
   "execution_count": null,
   "metadata": {},
   "outputs": [],
   "source": [
    "a = 40\n",
    "b = 50\n",
    "result = subtract_numbers(a,b)\n",
    "print(result)"
   ]
  },
  {
   "cell_type": "code",
   "execution_count": null,
   "metadata": {},
   "outputs": [],
   "source": [
    "a = 40\n",
    "b = 50\n",
    "result = multiply_numbers(a,b)\n",
    "print(result)"
   ]
  },
  {
   "cell_type": "code",
   "execution_count": null,
   "metadata": {},
   "outputs": [],
   "source": [
    "a = 40\n",
    "b = 50\n",
    "result = division_numbers(a,b)\n",
    "print(result)"
   ]
  },
  {
   "cell_type": "markdown",
   "metadata": {},
   "source": [
    "## Step 3: Arithmetic Operation with **operate** Function\n",
    "\n",
    "1. **Parameters:**  \n",
    "   The function takes three parameters: two numbers (**a** and **b**) and an operator (**operator**).  \n",
    "\n",
    "2. **Operator Check:**  \n",
    "   The function checks the value of the **operator**:  \n",
    "\n",
    "   - If the operator is **'+'**, it calls the **add_numbers(a, b)** function to add the two numbers.  \n",
    "\n",
    "   - If the operator is **'-'**, it attempts to call the **subtract_numbers(a, b)** function (though there’s a typo in the original code: **substract** should be **subtract**).  \n",
    "\n",
    "   - If the operator is **'*'**, it calls the **multiply_numbers(a, b)** function to multiply the numbers.  \n",
    "\n",
    "   - If the operator is **'/'**, it calls the **division_numbers(a, b)** function to divide the numbers.  \n"
   ]
  },
  {
   "cell_type": "code",
   "execution_count": null,
   "metadata": {},
   "outputs": [],
   "source": [
    "def operate(a,b,operator):\n",
    "    if operator == '+':\n",
    "        return add_numbers(a,b)\n",
    "    elif operator == '-':\n",
    "        return subtract_numbers(a,b)\n",
    "    elif operator == '*':\n",
    "        return multiply_numbers(a,b)\n",
    "    elif operator == '/':\n",
    "        return division_numbers(a,b)"
   ]
  },
  {
   "cell_type": "markdown",
   "metadata": {},
   "source": [
    "## Step 4: Testing for the above given arithmetic operations with **operate** function\n",
    "\n",
    "Executing the above functions"
   ]
  },
  {
   "cell_type": "code",
   "execution_count": null,
   "metadata": {},
   "outputs": [],
   "source": [
    "result = operate(2,0,'+')\n",
    "print(result)"
   ]
  },
  {
   "cell_type": "code",
   "execution_count": null,
   "metadata": {},
   "outputs": [],
   "source": [
    "result = operate(2,0,'-')\n",
    "print(result)"
   ]
  },
  {
   "cell_type": "markdown",
   "metadata": {},
   "source": [
    "## Basic Exercises\n",
    "\n"
   ]
  },
  {
   "cell_type": "markdown",
   "metadata": {},
   "source": [
    "### 1. Sum of Numbers in a Range\n",
    "\n",
    "- **Input:**\n",
    " \n",
    "   This function should take two parameters: a start number (**start**) and an end number (**end**).\n",
    "\n",
    "- **Output:**\n",
    "  \n",
    "   After the loop completes, the function should return the total sum of all numbers in the specified range.\n",
    "     \n"
   ]
  },
  {
   "cell_type": "code",
   "execution_count": null,
   "metadata": {},
   "outputs": [],
   "source": [
    "# input\n",
    "def sum_numbers (start,end):\n",
    "    total_sum = 0 \n",
    "    for i in range(start,end + 1):\n",
    "        print(i)\n",
    "        total_sum += i\n",
    "    return total_sum"
   ]
  },
  {
   "cell_type": "code",
   "execution_count": null,
   "metadata": {},
   "outputs": [],
   "source": [
    "# output\n",
    "sum = sum_numbers(5,12)\n",
    "print(sum)"
   ]
  },
  {
   "cell_type": "markdown",
   "metadata": {},
   "source": [
    "### 2. Building a Factorial Function\n",
    "\n",
    "- **Input:**\n",
    "\n",
    "   The function should take one parameter: a number (**n**) for which the factorial is to be calculated.  \n",
    "\n",
    "- **Output:**\n",
    "\n",
    "   After the loop completes, the function should return the computed factorial of the number **n**.  \n"
   ]
  },
  {
   "cell_type": "code",
   "execution_count": null,
   "metadata": {},
   "outputs": [],
   "source": [
    "# input\n",
    "def factorial(n):\n",
    "    result = 1\n",
    "    for i in range(1,n+1):\n",
    "        result *= i\n",
    "    return result\n",
    "\n",
    "print(result)"
   ]
  },
  {
   "cell_type": "code",
   "execution_count": null,
   "metadata": {},
   "outputs": [],
   "source": [
    "# output\n",
    "print(factorial(5))"
   ]
  },
  {
   "cell_type": "markdown",
   "metadata": {},
   "source": [
    "### 3. Extract Words from a Sentence\n",
    "\n",
    "- **Input:**\n",
    "  \n",
    "   The function should take a sentence (**sentence**) as input.  \n",
    "\n",
    "- **Output:**\n",
    "  \n",
    "   The function should return a list of words from the sentence.  \n"
   ]
  },
  {
   "cell_type": "code",
   "execution_count": null,
   "metadata": {},
   "outputs": [],
   "source": [
    "# input\n",
    "def get_words(sentence):\n",
    "    words = sentence.split( )\n",
    "    return words    "
   ]
  },
  {
   "cell_type": "code",
   "execution_count": null,
   "metadata": {},
   "outputs": [],
   "source": [
    "# output\n",
    "sentence = \"hello world\"\n",
    "words_list = get_words(sentence)\n",
    "print(words_list)"
   ]
  },
  {
   "cell_type": "markdown",
   "metadata": {},
   "source": [
    "## Conclusion\n",
    "\n",
    "This simple arithmetic calculator project covers essential operations like addition, subtraction, multiplication, and division.\n",
    "\n",
    "It demonstrates the use of functions to perform arithmetic tasks, handle user input, and manage potential errors like division by zero.\n",
    "\n",
    "Additionally, it explores practical applications like summing numbers in a range, calculating factorials, and extracting words from a sentence.\n",
    "\n",
    "Through these exercises, we've reinforced key programming concepts such as functions, loops, conditionals, and input handling, providing a solid foundation for further exploration in Python.  \n"
   ]
  },
  {
   "cell_type": "markdown",
   "metadata": {},
   "source": [
    "---\n",
    "\n",
    "# Thank You for visiting The Hackers Playbook! 🌐\n",
    "\n",
    "If you liked this research material;\n",
    "\n",
    "- [Subscribe to our newsletter.](https://thehackersplaybook.substack.com)\n",
    "\n",
    "- [Follow us on LinkedIn.](https://www.linkedin.com/company/the-hackers-playbook/)\n",
    "\n",
    "- [Leave a star on our GitHub.](https://www.github.com/thehackersplaybook)\n",
    "\n",
    "<div style=\"display:flex; align-items:center; padding: 50px;\">\n",
    "<p style=\"margin-right:10px;\">\n",
    "    <img height=\"200px\" style=\"width:auto;\" width=\"200px\" src=\"https://avatars.githubusercontent.com/u/192148546?s=400&u=95d76fbb02e6c09671d87c9155f17ca1e4ef8f21&v=4\"> \n",
    "</p>\n",
    "</div>\n"
   ]
  }
 ],
 "metadata": {
  "kernelspec": {
   "display_name": "Python 3",
   "language": "python",
   "name": "python3"
  },
  "language_info": {
   "codemirror_mode": {
    "name": "ipython",
    "version": 3
   },
   "file_extension": ".py",
   "mimetype": "text/x-python",
   "name": "python",
   "nbconvert_exporter": "python",
   "pygments_lexer": "ipython3",
   "version": "3.13.1"
  }
 },
 "nbformat": 4,
 "nbformat_minor": 2
}
