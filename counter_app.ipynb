{
 "cells": [
  {
   "cell_type": "markdown",
   "metadata": {},
   "source": [
    "# Counter App ⏱️\n",
    "This Streamlit app demonstrates a simple counter application with increment, decrement, and reset buttons. It also tracks the history of each action (increment, decrement, reset) and displays it in a separate column.\n",
    "\n",
    "<div style=\"display:flex; align-items:center; padding: 50px;\">\n",
    "<p style=\"margin-right:10px;\">\n",
    "    <img height=\"200px\" style=\"width:auto;\" width=\"200px\" src=\"https://avatars.githubusercontent.com/u/192148546?s=400&u=95d76fbb02e6c09671d87c9155f17ca1e4ef8f21&v=4\"> \n",
    "</p>\n",
    "<p style=\"margin-right:10px;\">\n",
    "    <img height=\"200px\" style=\"width:auto;\" width=\"200px\" src=\"https://cdn-icons-png.flaticon.com/512/6599/6599020.png\"> \n",
    "</p>\n",
    "\n",
    "</div>\n",
    "\n",
    "## Description:\n",
    "- Page Setup: Configures a Streamlit app with a custom title \"Counter App,\" centered layout, and a clock icon.\n",
    "\n",
    "- Counter Initialization: Initializes the counter to 0 and sets up a history dictionary to track increments, decrements, and resets.\n",
    " \n",
    "- UI Elements: Displays the current counter value using the st.metric function and provides buttons for incrementing, decrementing, and resetting the counter.\n",
    " \n",
    "- Action History Tracking: Updates the history for each action (increment, decrement, reset) by appending the action with the current counter value to a history dictionary.\n",
    " \n",
    "- Columns Layout: Organizes buttons and action history into three columns for a clean, structured layout.\n",
    " \n",
    "- Action History Display: Lists the history of each action (increment, decrement, reset) in separate columns for easy visualization."
   ]
  },
  {
   "cell_type": "markdown",
   "metadata": {},
   "source": [
    "## Steps to Use the Counter App\n",
    "##### Launch the application by running streamlit run `your_app_name`.py.\n",
    "\n",
    "#### The app interface will open in your browser with the following features:\n",
    "\n",
    "- `Current Count`: Displays the current value of the counter.\n",
    "#### Actions\n",
    "- `Increment`: Adds 1 to the counter.\n",
    "- `Decrement`: Subtracts 1 from the counter.\n",
    "- `Reset`: Resets the counter to 0.\n",
    "- View the Action History to see logs of all actions performed.\n",
    "\n",
    "- History is categorized into Increment, Decrement, and Reset.\n",
    "Use the buttons provided to interact with the app and monitor changes in the counter and history.\n",
    "\n",
    "`Example` : Output\n",
    "Initial Counter Value: 0\n",
    "After Increment: 1\n",
    "After Decrement: 0\n",
    "Reset to: 0"
   ]
  },
  {
   "cell_type": "markdown",
   "metadata": {},
   "source": [
    "## Step 1: Install Requirements\n",
    "\n",
    "To run this application, ensure you have Python installed on your system. Then, follow these steps:\n",
    "\n",
    "1. Create a virtual environment (optional but recommended):\n",
    "\n",
    "- Install all the requirements that are specified in the `requirements.txt` file in the root folder. \n",
    "- Make sure you set up a virtual environment before installing requirements. \n",
    "- To setup a virtual environment, run `python3 -m venv env`. \n",
    "- To activate the env on Linux / MacOS, run `. env/bin/activate` (for Windows the command is different, figure it out)."
   ]
  },
  {
   "cell_type": "code",
   "execution_count": null,
   "metadata": {},
   "outputs": [],
   "source": [
    "import os\n",
    "os.system('pip install -r requirements.txt')"
   ]
  },
  {
   "cell_type": "markdown",
   "metadata": {},
   "source": [
    "## Step 2: Install Streamlit:\n",
    "\n",
    "- Install Streamlit using `pip install streamlit` and import it in your file.\n",
    "- Configure the `Title`, `Layout` and `Icon` for the page."
   ]
  },
  {
   "cell_type": "code",
   "execution_count": null,
   "metadata": {},
   "outputs": [],
   "source": [
    "import streamlit as st  \n",
    "st.set_page_config(page_title= \"Counter App\", layout=\"centered\",page_icon=\"⏱️\")\n"
   ]
  },
  {
   "cell_type": "markdown",
   "metadata": {},
   "source": [
    "## Step 3: Set App Title and Description\n",
    "This sets the main title of the app as \"Professional Counter App\" and adds a markdown text below the title that describes the app as a simple counter application.\n"
   ]
  },
  {
   "cell_type": "code",
   "execution_count": null,
   "metadata": {},
   "outputs": [],
   "source": [
    "st.title(\"Professional Counter App\") \n",
    "st.markdown(\"A simple and elegant counter application.\")"
   ]
  },
  {
   "cell_type": "markdown",
   "metadata": {},
   "source": [
    "## Step 4: Counter Initialization \n",
    "This checks if the counter variable is already present in `session_state`. If not, it initializes the `counter` to 0 and creates a history dictionary for tracking actions (increment, decrement, reset).\n"
   ]
  },
  {
   "cell_type": "code",
   "execution_count": null,
   "metadata": {},
   "outputs": [],
   "source": [
    "if 'counter' not in st.session_state:\n",
    "    st.session_state.counter = 0\n",
    "    st.session_state.history = {\n",
    "        \"Increment\" : [],\n",
    "        \"Decrement\" : [],\n",
    "        \"Reset\" : []\n",
    "    }\n"
   ]
  },
  {
   "cell_type": "markdown",
   "metadata": {},
   "source": [
    "## Step 5: UI Elements\n",
    "This displays the current counter value using a metric element, showing the value stored in `session_state.counter`.\n"
   ]
  },
  {
   "cell_type": "code",
   "execution_count": null,
   "metadata": {},
   "outputs": [],
   "source": [
    "st.write(\"### Current Count\")\n",
    "st.metric(label=\"Counter\", value=st.session_state.counter)\n"
   ]
  },
  {
   "cell_type": "markdown",
   "metadata": {},
   "source": [
    "## Step 6: Action History Tracking\n",
    "This defines a function `update_history` that takes an action (increment, decrement, reset) and appends the current action along with the counter value to the appropriate history list in `session_state`.\n"
   ]
  },
  {
   "cell_type": "code",
   "execution_count": 6,
   "metadata": {},
   "outputs": [],
   "source": [
    "def update_history(action):\n",
    "    st.session_state.history[action].append(f\"{action}: {st.session_state.counter}\")\n"
   ]
  },
  {
   "cell_type": "markdown",
   "metadata": {},
   "source": [
    "## Step 7: Columns Layout\n",
    "This creates a subheading \"`Actions`\" and defines three columns with equal width to place buttons in.\n"
   ]
  },
  {
   "cell_type": "code",
   "execution_count": null,
   "metadata": {},
   "outputs": [],
   "source": [
    "st.write(\"### Actions\")\n",
    "col1, col2, col3 = st.columns([1, 1, 1])  \n"
   ]
  },
  {
   "cell_type": "markdown",
   "metadata": {},
   "source": [
    "This adds an `increment button` (🔼) inside the first column. When clicked, it increases the counter by 1 and updates the history for the \"Increment\" action.\n"
   ]
  },
  {
   "cell_type": "code",
   "execution_count": null,
   "metadata": {},
   "outputs": [],
   "source": [
    "with col1:\n",
    "    if st.button(\"🔼 Increment\"):\n",
    "        st.session_state.counter += 1\n",
    "        update_history(\"Increment\")\n"
   ]
  },
  {
   "cell_type": "markdown",
   "metadata": {},
   "source": [
    "This adds a `decrement button` (🔽) inside the second column. When clicked, it decreases the counter by 1 and updates the history for the \"Decrement\" action.\n"
   ]
  },
  {
   "cell_type": "code",
   "execution_count": null,
   "metadata": {},
   "outputs": [],
   "source": [
    "with col2:\n",
    "    if st.button(\"🔽 Decrement\"):\n",
    "        st.session_state.counter -= 1\n",
    "        update_history(\"Decrement\")\n"
   ]
  },
  {
   "cell_type": "markdown",
   "metadata": {},
   "source": [
    "This adds a `reset button` (🔄) inside the third column. When clicked, it resets the counter to 0 and updates the history for the \"Reset\" action.\n"
   ]
  },
  {
   "cell_type": "code",
   "execution_count": null,
   "metadata": {},
   "outputs": [],
   "source": [
    "with col3:\n",
    "    if st.button(\"🔄 Reset Counter\"):\n",
    "        st.session_state.counter = 0\n",
    "        update_history(\"Reset\")\n"
   ]
  },
  {
   "cell_type": "markdown",
   "metadata": {},
   "source": [
    "## Step 8: Action History Display\n",
    "This creates a subheading \"`Action History`\" and defines three columns for displaying the history of each action (increment, decrement, reset).\n"
   ]
  },
  {
   "cell_type": "code",
   "execution_count": null,
   "metadata": {},
   "outputs": [],
   "source": [
    "st.subheader(\"Action History\")\n",
    "col1, col2, col3 = st.columns([1, 1, 1])\n"
   ]
  },
  {
   "cell_type": "markdown",
   "metadata": {},
   "source": [
    "This displays the \"`Increment`\" history in the first column and iterates through each increment action in the history, displaying it.\n"
   ]
  },
  {
   "cell_type": "code",
   "execution_count": null,
   "metadata": {},
   "outputs": [],
   "source": [
    "with col1:\n",
    "    st.write(\"Increment\")\n",
    "    for action in st.session_state.history[\"Increment\"]:\n",
    "        st.write(action)\n"
   ]
  },
  {
   "cell_type": "markdown",
   "metadata": {},
   "source": [
    "This displays the \"`Decrement`\" history in the second column and iterates through each decrement action in the history, displaying it.\n"
   ]
  },
  {
   "cell_type": "code",
   "execution_count": null,
   "metadata": {},
   "outputs": [],
   "source": [
    "with col2:\n",
    "    st.write(\"Decrement\")\n",
    "    for action in st.session_state.history[\"Decrement\"]:\n",
    "        st.write(action)\n"
   ]
  },
  {
   "cell_type": "markdown",
   "metadata": {},
   "source": [
    "This displays the \"`Reset`\" history in the third column and iterates through each reset action in the history, displaying it.\n"
   ]
  },
  {
   "cell_type": "code",
   "execution_count": null,
   "metadata": {},
   "outputs": [],
   "source": [
    "with col3:\n",
    "    st.write(\"Reset\")\n",
    "    for action in st.session_state.history[\"Reset\"]:\n",
    "        st.write(action)\n"
   ]
  },
  {
   "cell_type": "markdown",
   "metadata": {},
   "source": [
    "## Step 8: Add Footer\n",
    "\n",
    "Add a `footer` to the calculator app for branding or credits.\n"
   ]
  },
  {
   "cell_type": "code",
   "execution_count": null,
   "metadata": {},
   "outputs": [],
   "source": [
    "st.markdown(\n",
    "    \"\"\"\n",
    "    <style>\n",
    "    .bottom-right {\n",
    "        position: fixed;\n",
    "        bottom: 10px;\n",
    "        right: 15px;\n",
    "        font-size: 0.9em;\n",
    "        color: gray;\n",
    "    }\n",
    "    </style>\n",
    "    <div class=\"bottom-right\">\n",
    "        your-brading-name or credits\n",
    "    </div>\n",
    "    \"\"\",\n",
    "    unsafe_allow_html=True\n",
    ")\n"
   ]
  },
  {
   "cell_type": "markdown",
   "metadata": {},
   "source": [
    "## Step 10: Launch Application:\n",
    "Run the application by executing `streamlit run counter_app.py`.\n"
   ]
  },
  {
   "cell_type": "code",
   "execution_count": null,
   "metadata": {},
   "outputs": [],
   "source": [
    "streamlite run counter_app.py"
   ]
  },
  {
   "cell_type": "markdown",
   "metadata": {},
   "source": [
    "## Here is the complete code for the Counter App:\n",
    "\n",
    "```python\n",
    "import streamlit as st  # Importing Streamlit library for creating UI\n",
    "st.set_page_config(page_title= \"Counter App\", layout=\"centered\",page_icon=\"⏱️\")  # Setting the page title and layout\n",
    "\n",
    "# Title of the app\n",
    "st.title(\"Professional Counter App\")\n",
    "st.markdown(\"A simple and elegant counter application.\")\n",
    "\n",
    "# Initialize the counter & History\n",
    "if 'counter' not in st.session_state:\n",
    "    st.session_state.counter = 0\n",
    "    st.session_state.history = {\n",
    "        \"Increment\" : [],\n",
    "        \"Decrement\" : [],\n",
    "        \"Reset\" : []\n",
    "    }\n",
    "\n",
    "st.write(\"### Current Count\")\n",
    "# Display the current counter value\n",
    "st.metric(label=\"Counter\", value=st.session_state.counter)\n",
    "\n",
    "# Update the history\n",
    "def update_history(action):\n",
    "    st.session_state.history[action].append(f\"{action}: {st.session_state.counter}\")\n",
    "\n",
    "# Columns for buttons\n",
    "st.write(\"### Actions\")\n",
    "col1, col2, col3 = st.columns([1, 1, 1])\n",
    "\n",
    "with col1:\n",
    "    # Increment button\n",
    "    if st.button(\"🔼 Increment\"):\n",
    "        st.session_state.counter += 1\n",
    "        update_history(\"Increment\")\n",
    "\n",
    "with col2:\n",
    "    # Decrement button\n",
    "    if st.button(\"🔽 Decrement\"):\n",
    "        st.session_state.counter -= 1\n",
    "        update_history(\"Decrement\")\n",
    "\n",
    "with col3:\n",
    "    # Reset button\n",
    "    if st.button(\"🔄 Reset Counter\"):\n",
    "        st.session_state.counter = 0\n",
    "        update_history(\"Reset\")\n",
    "\n",
    "# History of actions\n",
    "st.subheader(\"Action History\")\n",
    "col1, col2, col3 = st.columns([1, 1, 1])\n",
    "\n",
    "with col1:\n",
    "    # Increment History\n",
    "    st.write(\"Increment\")\n",
    "    for action in st.session_state.history[\"Increment\"]:\n",
    "        st.write(action)\n",
    "\n",
    "with col2:\n",
    "    # Decrement History\n",
    "    st.write(\"Decrement\")\n",
    "    for action in st.session_state.history[\"Decrement\"]:\n",
    "        st.write(action)\n",
    "\n",
    "with col3:\n",
    "    # Reset History\n",
    "    st.write(\"Reset\")\n",
    "    for action in st.session_state.history[\"Reset\"]:\n",
    "        st.write(action)\n",
    "\n",
    "#Footer\n",
    "st.markdown(\n",
    "        \"\"\"\n",
    "        <style>\n",
    "        .bottom-right {\n",
    "            position: fixed;\n",
    "            bottom: 10px;\n",
    "            right: 15px;\n",
    "            font-size: 0.9em;\n",
    "            color: gray;\n",
    "        }\n",
    "        </style>\n",
    "        <div class=\"bottom-right\">\n",
    "            your-branding-name or credits\n",
    "        </div>\n",
    "        \"\"\",\n",
    "        unsafe_allow_html=True\n",
    "                )"
   ]
  },
  {
   "cell_type": "markdown",
   "metadata": {},
   "source": [
    "---\n",
    "\n",
    "# Thank You for visiting The Hackers Playbook! 🌐\n",
    "\n",
    "If you liked this research material;\n",
    "\n",
    "- [Subscribe to our newsletter.](https://thehackersplaybook.substack.com)\n",
    "\n",
    "- [Follow us on LinkedIn.](https://www.linkedin.com/company/the-hackers-playbook/)\n",
    "\n",
    "- [Leave a star on our GitHub.](https://www.github.com/thehackersplaybook)\n",
    "\n",
    "<div style=\"display:flex; align-items:center; padding: 50px;\">\n",
    "<p style=\"margin-right:10px;\">\n",
    "    <img height=\"200px\" style=\"width:auto;\" width=\"200px\" src=\"https://avatars.githubusercontent.com/u/192148546?s=400&u=95d76fbb02e6c09671d87c9155f17ca1e4ef8f21&v=4\"> \n",
    "</p>\n",
    "</div>\n"
   ]
  }
 ],
 "metadata": {
  "kernelspec": {
   "display_name": "Python 3",
   "language": "python",
   "name": "python3"
  },
  "language_info": {
   "codemirror_mode": {
    "name": "ipython",
    "version": 3
   },
   "file_extension": ".py",
   "mimetype": "text/x-python",
   "name": "python",
   "nbconvert_exporter": "python",
   "pygments_lexer": "ipython3",
   "version": "3.10.10"
  }
 },
 "nbformat": 4,
 "nbformat_minor": 2
}
