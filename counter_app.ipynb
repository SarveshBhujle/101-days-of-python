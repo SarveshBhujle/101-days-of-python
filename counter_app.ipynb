{
 "cells": [
  {
   "cell_type": "markdown",
   "metadata": {},
   "source": [
    "# Counter App ⏱️\n",
    "This Streamlit app demonstrates a simple counter application with increment, decrement, and reset buttons. It also tracks the history of each action (increment, decrement, reset) and displays it in a separate column.\n",
    "\n",
    "<div style=\"display:flex; align-items:center; padding: 50px;\">\n",
    "<p style=\"margin-right:10px;\">\n",
    "    <img height=\"200px\" style=\"width:auto;\" width=\"200px\" src=\"https://avatars.githubusercontent.com/u/192148546?s=400&u=95d76fbb02e6c09671d87c9155f17ca1e4ef8f21&v=4\"> \n",
    "</p>\n",
    "<p style=\"margin-right:10px;\">\n",
    "    <img height=\"200px\" style=\"width:auto;\" width=\"200px\" src=\"https://cdn-icons-png.flaticon.com/512/6599/6599020.png\"> \n",
    "</p>\n",
    "\n",
    "</div>\n",
    "\n",
    "## Description:\n",
    "- Page Setup: Configures a Streamlit app with a custom title \"Counter App,\" centered layout, and a clock icon.\n",
    "\n",
    "- Counter Initialization: Initializes the counter to 0 and sets up a history dictionary to track increments, decrements, and resets.\n",
    " \n",
    "- UI Elements: Displays the current counter value using the st.metric function and provides buttons for incrementing, decrementing, and resetting the counter.\n",
    " \n",
    "- Action History Tracking: Updates the history for each action (increment, decrement, reset) by appending the action with the current counter value to a history dictionary.\n",
    " \n",
    "- Columns Layout: Organizes buttons and action history into three columns for a clean, structured layout.\n",
    " \n",
    "- Action History Display: Lists the history of each action (increment, decrement, reset) in separate columns for easy visualization."
   ]
  },
  {
   "cell_type": "markdown",
   "metadata": {},
   "source": [
    "## Steps to Use the Calculator App\n",
    "- Launch the application by running streamlit run your_app_name.py in your terminal with the correct path to your app file.\n",
    "- The app interface will open in your browser with the following features:\n",
    "\n",
    "#### The app interface will open in your browser with the following features:\n",
    "\n",
    "- `Current Count`: Displays the current value of the counter.\n",
    "#### Actions\n",
    "- `Increment`: Adds 1 to the counter.\n",
    "- `Decrement`: Subtracts 1 from the counter.\n",
    "- `Reset`: Resets the counter to 0.\n",
    "- View the Action History to see logs of all actions performed.\n",
    "\n",
    "- History is categorized into Increment, Decrement, and Reset.\n",
    "Use the buttons provided to interact with the app and monitor changes in the counter and history.\n",
    "\n",
    "`Example` : Output\n",
    "Initial Counter Value: 0\n",
    "After Increment: 1\n",
    "After Decrement: 0\n",
    "Reset to: 0"
   ]
  },
  {
   "cell_type": "markdown",
   "metadata": {},
   "source": [
    "## Step 1: Install Requirements\n",
    "\n",
    "To run this application, ensure you have Python installed on your system. Then, follow these steps:\n",
    "\n",
    "1. Create a virtual environment (optional but recommended):\n",
    "\n",
    "- Install all the requirements that are specified in the `requirements.txt` file in the root folder. \n",
    "- Make sure you set up a virtual environment before installing requirements. \n",
    "- To setup a virtual environment, run `python3 -m venv env`. \n",
    "- To activate the env on Linux / MacOS, run `. env/bin/activate` (for Windows the command is different, figure it out)."
   ]
  },
  {
   "cell_type": "code",
   "execution_count": null,
   "metadata": {},
   "outputs": [],
   "source": [
    "import os\n",
    "os.system('pip install -r requirements.txt')"
   ]
  },
  {
   "cell_type": "markdown",
   "metadata": {},
   "source": [
    "## Step 2: Install Streamlit:\n",
    "\n",
    "- Install Streamlit using `pip install streamlit` and import it in your file.\n",
    "- Configure the `Title`, `Layout` and `Icon` for the page."
   ]
  },
  {
   "cell_type": "markdown",
   "metadata": {},
   "source": [
    "## Step 3: Set App Title and Description\n",
    "Set the main title of the app as \"Professional Counter App\" and add a markdown text below the title that describes the app as a simple counter application.\n"
   ]
  },
  {
   "cell_type": "markdown",
   "metadata": {},
   "source": [
    "## Step 4: Counter Initialization \n",
    "Check if the counter variable is already present in `session_state`. If not, it initializes the `counter` to 0 and creates a history dictionary for tracking actions (increment, decrement, reset).\n"
   ]
  },
  {
   "cell_type": "markdown",
   "metadata": {},
   "source": [
    "## Step 5: UI Elements\n",
    "Display the current counter value using a metric element, showing the value stored in `session_state.counter`.\n"
   ]
  },
  {
   "cell_type": "markdown",
   "metadata": {},
   "source": [
    "## Step 6: Action History Tracking\n",
    "Define a function `update_history` that takes an action (increment, decrement, reset) and appends the current action along with the counter value to the appropriate history list in `session_state`.\n"
   ]
  },
  {
   "cell_type": "markdown",
   "metadata": {},
   "source": [
    "## Step 7: Columns Layout\n",
    "Create a subheading \"`Actions`\" and defines three columns with equal width to place buttons in.\n"
   ]
  },
  {
   "cell_type": "markdown",
   "metadata": {},
   "source": [
    "Add an `increment button` (🔼) inside the first column. When clicked, it increases the counter by 1 and updates the history for the \"Increment\" action.\n"
   ]
  },
  {
   "cell_type": "markdown",
   "metadata": {},
   "source": [
    "Add a `decrement button` (🔽) inside the second column. When clicked, it decreases the counter by 1 and updates the history for the \"Decrement\" action.\n"
   ]
  },
  {
   "cell_type": "markdown",
   "metadata": {},
   "source": [
    "Add a `reset button` (🔄) inside the third column. When clicked, it resets the counter to 0 and updates the history for the \"Reset\" action.\n"
   ]
  },
  {
   "cell_type": "markdown",
   "metadata": {},
   "source": [
    "## Step 8: Action History Display\n",
    "Create a subheading \"`Action History`\" and define three columns for displaying the history of each action (increment, decrement, reset).\n"
   ]
  },
  {
   "cell_type": "markdown",
   "metadata": {},
   "source": [
    "Display the \"`Increment`\" history in the first column and iterates through each increment action in the history, displaying it.\n"
   ]
  },
  {
   "cell_type": "markdown",
   "metadata": {},
   "source": [
    "Display the \"`Decrement`\" history in the second column and iterates through each decrement action in the history, displaying it.\n"
   ]
  },
  {
   "cell_type": "markdown",
   "metadata": {},
   "source": [
    "Display the \"`Reset`\" history in the third column and iterates through each reset action in the history, displaying it.\n"
   ]
  },
  {
   "cell_type": "markdown",
   "metadata": {},
   "source": [
    "## Step 9: Add Footer\n",
    "\n",
    "Add a `footer` to the app for branding or credits.\n"
   ]
  },
  {
   "cell_type": "code",
   "execution_count": null,
   "metadata": {},
   "outputs": [],
   "source": [
    "st.markdown(\n",
    "    \"\"\"\n",
    "    <style>\n",
    "    .bottom-right {\n",
    "        position: fixed;\n",
    "        bottom: 10px;\n",
    "        right: 15px;\n",
    "        font-size: 0.9em;\n",
    "        color: gray;\n",
    "    }\n",
    "    </style>\n",
    "    <div class=\"bottom-right\">\n",
    "        your-brading-name or credits\n",
    "    </div>\n",
    "    \"\"\",\n",
    "    unsafe_allow_html=True\n",
    ")\n"
   ]
  },
  {
   "cell_type": "markdown",
   "metadata": {},
   "source": [
    "## Step 10: Launch Application:\n",
    "\n",
    "Run the application by executing `streamlit run your_file_name.py` in your terminal with the correct path to the app file.\n"
   ]
  },
  {
   "cell_type": "code",
   "execution_count": null,
   "metadata": {},
   "outputs": [],
   "source": [
    "import os\n",
    "\n",
    "def run_command(cmd):\n",
    "    os.system(cmd)\n",
    "\n",
    "run_command(\"streamlit run streamlit/counter_app.py\")"
   ]
  },
  {
   "cell_type": "markdown",
   "metadata": {},
   "source": [
    "---\n",
    "\n",
    "# Thank You for visiting The Hackers Playbook! 🌐\n",
    "\n",
    "If you liked this research material;\n",
    "\n",
    "- [Subscribe to our newsletter.](https://thehackersplaybook.substack.com)\n",
    "\n",
    "- [Follow us on LinkedIn.](https://www.linkedin.com/company/the-hackers-playbook/)\n",
    "\n",
    "- [Leave a star on our GitHub.](https://www.github.com/thehackersplaybook)\n",
    "\n",
    "<div style=\"display:flex; align-items:center; padding: 50px;\">\n",
    "<p style=\"margin-right:10px;\">\n",
    "    <img height=\"200px\" style=\"width:auto;\" width=\"200px\" src=\"https://avatars.githubusercontent.com/u/192148546?s=400&u=95d76fbb02e6c09671d87c9155f17ca1e4ef8f21&v=4\"> \n",
    "</p>\n",
    "</div>\n"
   ]
  }
 ],
 "metadata": {
  "kernelspec": {
   "display_name": "Python 3",
   "language": "python",
   "name": "python3"
  },
  "language_info": {
   "codemirror_mode": {
    "name": "ipython",
    "version": 3
   },
   "file_extension": ".py",
   "mimetype": "text/x-python",
   "name": "python",
   "nbconvert_exporter": "python",
   "pygments_lexer": "ipython3",
   "version": "3.10.10"
  }
 },
 "nbformat": 4,
 "nbformat_minor": 2
}
