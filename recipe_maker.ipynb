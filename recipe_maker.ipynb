{
 "cells": [
  {
   "cell_type": "markdown",
   "metadata": {},
   "source": [
    "# AI-Powered Recipe Generator\n",
    "\n",
    "<div style=\"display:flex; align-items:center; padding: 50px;\">\n",
    "<p style=\"margin-right:10px;\">\n",
    "    <img height=\"200px\" style=\"width:auto;\" width=\"200px\" src=\"https://avatars.githubusercontent.com/u/192148546?s=400&u=95d76fbb02e6c09671d87c9155f17ca1e4ef8f21&v=4\"> \n",
    "</p>\n",
    "<p style=\"margin-right:10px;\">\n",
    "    <img height=\"200px\" style=\"width:auto;\" width=\"200px\" src=\"https://img.freepik.com/premium-photo/cooking-cooking-logo-culinary-creation-generative-ai_330494-1331.jpg\"> \n",
    "</p>\n",
    "\n",
    "</div>\n",
    "\n",
    "## Description\n",
    "\n",
    "### Generate Customized Recipes with AI\n",
    "\n",
    "- **AI-Powered Recipes**: Input your available ingredients and let the app generate unique, delicious recipes tailored to your needs.\n",
    "\n",
    "- **Quick and Easy**: Get recipe suggestions in seconds, making meal planning effortless.\n",
    "\n",
    "- **Customizable**: Choose the number of recipes to generate based on your preferences.\n",
    "\n",
    "- **Efficient**: Maximize your ingredients by discovering new and creative ways to use them.\n",
    "\n",
    "- **User-Friendly**: Simple and intuitive interface for a seamless cooking experience.\n",
    "\n",
    "Unlock the potential of your kitchen with AI!\n"
   ]
  },
  {
   "cell_type": "markdown",
   "metadata": {},
   "source": [
    "## Step 1: Libraries and Environment Setup\n",
    "\n",
    "- `Imports`: Necessary libraries are imported (**streamlit**, **openai**, **json** etc.).\n",
    "\n",
    "- `API Key`: Loads the OpenAI API key from environment variables using dotenv.\n"
   ]
  },
  {
   "cell_type": "markdown",
   "metadata": {},
   "source": [
    "## Step 2: Fetching Recipes from Ingredients\n",
    "\n",
    "- This function generates recipes using the OpenAI API based on the ingredients entered by the user.\n",
    "\n",
    "- This code interacts with the OpenAI API to generate recipes based on the ingredients input. \n",
    "\n",
    "- It sends a prompt to the API requesting recipes in a specific format (JSON) and handles errors if the response format is invalid."
   ]
  },
  {
   "cell_type": "markdown",
   "metadata": {},
   "source": [
    "## Step 3: Displaying Recipes\n",
    "\n",
    "- This section handles the presentation of the generated recipes on the Streamlit app in a grid layout. \n",
    "\n",
    "- Recipes are displayed in three columns, and each recipe includes its name, ingredients, and instructions.\n",
    "\n",
    "- It organizes the recipes into three columns using `st.columns()` and displays them with their ingredients and instructions.\n",
    "\n",
    "- The `st.subheader()` and `st.write()` methods are used to format the recipe name, ingredients, and steps for better readability.\n"
   ]
  },
  {
   "cell_type": "markdown",
   "metadata": {},
   "source": [
    "## Step 4: Main App Logic\n",
    "\n",
    "- The `main()` function sets up the app interface, handles user input ( **ingredients** and **number of recipes** ), and calls the functions to fetch and display the recipes.\n",
    "\n",
    "- This function sets up the **page configuration**, handles user inputs for **ingredients** and the **number of recipes**, and triggers the recipe generation when the button is clicked.\n",
    "\n",
    "- It also manages user feedback, such as **warnings** for **missing or incorrect inputs** and **success** messages after the recipes are generated.\n"
   ]
  },
  {
   "cell_type": "markdown",
   "metadata": {},
   "source": [
    "## Step 5: Add Footer\n",
    "\n",
    "Add a `footer` to the app for branding or credits.\n"
   ]
  },
  {
   "cell_type": "markdown",
   "metadata": {},
   "source": [
    "```bash\n",
    "st.markdown(\n",
    "        \"\"\"\n",
    "        <style>\n",
    "        .bottom-right {\n",
    "            position: fixed;\n",
    "            bottom: 10px;\n",
    "            right: 15px;\n",
    "            font-size: 0.9em;\n",
    "            color: gray;\n",
    "        }\n",
    "        </style>\n",
    "        <div class=\"bottom-right\">\n",
    "            your-brading-name or credits\n",
    "        </div>\n",
    "        \"\"\",\n",
    "        unsafe_allow_html=True\n",
    "                )\n",
    "```"
   ]
  },
  {
   "cell_type": "markdown",
   "metadata": {},
   "source": [
    "## Step 6: Launch Application:\n",
    "\n",
    "Run the application by executing `streamlit run your_file_name.py` in your terminal with the correct path to the app file.\n"
   ]
  },
  {
   "cell_type": "code",
   "execution_count": null,
   "metadata": {},
   "outputs": [],
   "source": [
    "import os\n",
    "\n",
    "def run_command(cmd):\n",
    "    os.system(cmd)\n",
    "\n",
    "run_command(\"streamlit run streamlit/recipe_maker.py\")"
   ]
  },
  {
   "cell_type": "markdown",
   "metadata": {},
   "source": [
    "## Conclusion\n",
    "\n",
    "- This app leverages OpenAI's GPT-4 model to generate unique and creative recipes based on user-provided ingredients.\n",
    "\n",
    "- The app offers a user-friendly interface with a simple input for ingredients and a slider to choose the number of recipes.\n",
    "\n",
    "- Recipes are displayed in an organized grid layout with clear formatting for ingredients and instructions, making it easy for users to follow.\n",
    "\n",
    "- Users can save and download their favorite recipes for future reference, making meal planning efficient and enjoyable.\n",
    "\n",
    "- Overall, this app brings AI-driven culinary inspiration, helping users maximize the potential of their kitchen with minimal effort.\n"
   ]
  },
  {
   "cell_type": "markdown",
   "metadata": {},
   "source": [
    "---\n",
    "\n",
    "# Thank You for visiting The Hackers Playbook! 🌐\n",
    "\n",
    "If you liked this research material;\n",
    "\n",
    "- [Subscribe to our newsletter.](https://thehackersplaybook.substack.com)\n",
    "\n",
    "- [Follow us on LinkedIn.](https://www.linkedin.com/company/the-hackers-playbook/)\n",
    "\n",
    "- [Leave a star on our GitHub.](https://www.github.com/thehackersplaybook)\n",
    "\n",
    "<div style=\"display:flex; align-items:center; padding: 50px;\">\n",
    "<p style=\"margin-right:10px;\">\n",
    "    <img height=\"200px\" style=\"width:auto;\" width=\"200px\" src=\"https://avatars.githubusercontent.com/u/192148546?s=400&u=95d76fbb02e6c09671d87c9155f17ca1e4ef8f21&v=4\"> \n",
    "</p>\n",
    "</div>"
   ]
  }
 ],
 "metadata": {
  "language_info": {
   "name": "python"
  }
 },
 "nbformat": 4,
 "nbformat_minor": 2
}
