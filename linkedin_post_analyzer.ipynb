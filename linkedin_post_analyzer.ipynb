{
 "cells": [
  {
   "cell_type": "code",
   "execution_count": null,
   "metadata": {},
   "outputs": [],
   "source": [
    "## Set up\n",
    "\n",
    "import openai\n",
    "import os\n",
    "from dotenv import load_dotenv\n",
    "\n",
    "load_dotenv(override=True)  # Load environment variables from .env file\n",
    "openai.api_key = os.getenv(\"OPENAI_API_KEY\")  # Set API key"
   ]
  },
  {
   "cell_type": "code",
   "execution_count": null,
   "metadata": {},
   "outputs": [],
   "source": [
    "## Integrate Openai\n",
    "\n",
    "def analyze_post(user_post):\n",
    "    system_prompt = f\"\"\"\n",
    "        You are a linkedin post anaylzer and you are analyzing the following LinkedIn post, rate it on a scale of 1-10 for the following aspects.\n",
    "        Provide feedback and suggestions for each category.\n",
    "        Provide the title  \"# LinkedIn Post Analyzer\" at the beginning.\n",
    "        Provide an **summary of strengths & weaknesses** and a **overall rating**.\n",
    "    Also, rewrite the post with improvements while keeping its original intent and respond in markdown format.\n",
    "\n",
    "    Post:\n",
    "    {user_post}\n",
    "\n",
    "    Categories:\n",
    "    ⚡ Attention & Hook - Does it grab attention in the first sentence? `(Score out of 10)`\n",
    "    📖 Readability & Structure - Is it easy to consume? `(Score out of 10)`\n",
    "    💎 Value & Relevance - Why should the audience care? `(Score out of 10)`\n",
    "    ❤️ Emotional & Intellectual Engagement - Does it keep readers engaged? `(Score out of 10)`\n",
    "    🤝 Engagement Triggers - Does it encourage comments & shares? `(Score out of 10)`\n",
    "    🎯 Credibility & Authority - Does it establish expertise & trust? `(Score out of 10)`\n",
    "    🚀 Shareability & Algorithm Fit - Is it likely to spread? `(Score out of 10)`\n",
    "\n",
    "    Finally, rewrite the post with improvements while keeping its original intent\n",
    "    \"\"\"\n",
    "    \n",
    "    response = openai.chat.completions.create(\n",
    "        model=\"gpt-4\",\n",
    "        messages=[{\"role\": \"system\", \"content\": system_prompt},\n",
    "                {\"role\": \"user\", \"content\": user_post}]\n",
    "    )\n",
    "\n",
    "    return response.choices[0].message.content"
   ]
  },
  {
   "cell_type": "code",
   "execution_count": null,
   "metadata": {},
   "outputs": [],
   "source": [
    "from IPython.display import Markdown, display\n",
    "\n",
    "user_post = f\"\"\"\n",
    "    Tired of guessing whether your LinkedIn posts will go viral?\n",
    "I've built a FREE tool to help you!\n",
    "\n",
    "The truth is, viral LinkedIn posts aren't random. They follow a precise formula - one that consistently drives engagement, shares, and audience growth. \n",
    "\n",
    "But executing it perfectly is the hard part.\n",
    "\n",
    "I learned this the hard way. \n",
    "\n",
    "For months, I'd spend hours crafting posts, then go back and forth with ChatGPT to analyze if they hit all the right notes: hook strength, readability, value proposition, emotional resonance, and more.\n",
    "\n",
    "It worked, but it was painfully slow.\n",
    "\n",
    "So I built something better: a tool that instantly analyzes your post drafts across 7 key parameters that determine LinkedIn success:\n",
    "\n",
    "⚡ Attention & Hook \n",
    "📚 Readability & Structure\n",
    "💎 Value & Relevance \n",
    "❤️ Emotional & Intellectual Engagement \n",
    "🌟 Engagement Triggers \n",
    "🎯 Credibility & Authority \n",
    "🚀 Shareability & Algorithm Fit\n",
    "\n",
    "Each dimension gets scored out of 10, with specific feedback on what to improve. \n",
    "\n",
    "It's like having an expert content strategist review every post before you hit publish.\n",
    "\n",
    "Dropping the link in the comments. \n",
    "\n",
    "What other small tools would you like me to build in order to get you to put your story out there in the world? Let me know in the comments!\n",
    "\"\"\"\n",
    "\n",
    "analysis_result = analyze_post(user_post)\n",
    "display(Markdown(analysis_result))\n"
   ]
  }
 ],
 "metadata": {
  "kernelspec": {
   "display_name": ".venv",
   "language": "python",
   "name": "python3"
  },
  "language_info": {
   "codemirror_mode": {
    "name": "ipython",
    "version": 3
   },
   "file_extension": ".py",
   "mimetype": "text/x-python",
   "name": "python",
   "nbconvert_exporter": "python",
   "pygments_lexer": "ipython3",
   "version": "3.12.4"
  }
 },
 "nbformat": 4,
 "nbformat_minor": 2
}
